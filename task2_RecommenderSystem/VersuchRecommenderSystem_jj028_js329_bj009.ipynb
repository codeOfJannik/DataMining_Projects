{
 "cells": [
  {
   "cell_type": "markdown",
   "metadata": {},
   "source": [
    "# Data Mining Versuch Recommender Systeme\n",
    "\n",
    "* Autor: Prof. Dr. Johannes Maucher\n",
    "* Datum: 30.09.2015\n",
    "\n",
    "[Übersicht Ipython Notebooks im Data Mining Praktikum](Data Mining Praktikum.ipynb)\n",
    "\n",
    "\n",
    "# Einführung\n",
    "## Lernziele:\n",
    "In diesem Versuch sollen Kenntnisse in folgenden Themen vermittelt werden:\n",
    "\n",
    "* __Ähnlichkeit:__ Verfahren zur Bestimmung der Ähnlichkeit zwischen Personen (Kunden) und Elementen (Produkten)\n",
    "* __Empfehlungssysteme__ Collaborative Filtering \n",
    "* __Collaborative Filtering:__ Nutzerbezogener Ansatz und elementbasierter Ansatz\n",
    "\n",
    "Sämtliche Verfahren und Algorithmen werden in Python implementiert.\n",
    "\n",
    "## Theorie zur Vorbereitung\n",
    "### Recommender Systeme\n",
    "Recommender Systeme werden im E-Commerce eingesetzt um Werbung in Form von kundenspezifischen Empfehlungen zu verteilen. Weitläufig bekannt sind die Amazon-Empfehlungen, die entweder per e-mail geschickt oder nach dem Log-In in der Web-Page angezeigt werden. Diese Empfehlungen werden in Abhängigkeit von den bisher vom jeweiligen Kunden gekauften bzw. bewerteten Produkten erstellt. In diesem Versuch werden die derzeit wohl am weitest verbreiteteten Verfahren für die Erzeugung kundenspezifischer Empfehlungen vorgestellt, darunter das elementweise Collaborative Filtering, welches z.B. auch von Amazon eingesetzt wird.     \n",
    "\n",
    "Direkt-Marketing Methoden wie die kundenspezifische Erzeugung und Bereitstellung von Werbung erfordern detaillierte Kunden- und Warenkorbanalysen. Kunden mit ähnlichem Kaufverhalten werden in Kundengruppen zusammengefasst. Die Warenkorbanalyse untersucht u.a. welche Waren bevorzugt im Verbund von der gleichen Person gekauft werden. Damit kann ein Händler Werbung in Form von Empfehlungen individuell und gezielt an seine Kunden richten, abhängig davon welcher Kundengruppe er angehört und welche Produkte bevorzugt von dieser Kundengruppe nachgefragt werden. \n",
    "\n",
    "Im ersten Teil der Übung werden fiktive Daten in einer überschaubaren Menge verwendet. Es handelt sich hier um Filmbewertungen. Anhand dieses Beispiels sollen die notwendigen Methoden und Abläufe implementiert und getestet werden. Diese werden im zweiten Teil der Übung auf echte Daten angewandt. Hierzu werden über eine Python-API Daten vom Internet-Meta-Radio _last.fm_ integriert. Auf der Basis dieser Daten sollen dann Musikempfehlungen für last.fm User berechnet werden. \n",
    "\n",
    "Recommender Systeme lassen sich mit\n",
    "\n",
    "* Clustering Verfahren\n",
    "* Suchalgorithmen\n",
    "* Collaborativen Filtering \n",
    " \n",
    "realisieren. Am häufigsten wird hierbei das Collaborative Filtering eingesetzt. Für das Collaborative Filtering wird jeder der $M$ User durch einen $N$-dimensionalen Vektor beschrieben, wobei $N$ die Anzahl der Produkte im Angebot des Händlers ist. Jedes Element im Vektor gehört zu einem speziellen Produkt. Das Element hat den Wert 1, wenn der User dieses Produkt bereits gekauft hat, sonst 0 (andere Wertbelegungen sind möglich, z.B. wenn Produktbewertungen vorliegen). Alle $M$ Zeilenvektoren können zur _User/Item_ Matrix zusammengefasst werden (siehe Abbildung).\n",
    "\n",
    "![Abbildung User Item Matrix](https://www.hdm-stuttgart.de/~maucher/ipnotebooks/DataMining//Bilder/UserItemMatrix.png \"User Item Matrix\")"
   ]
  },
  {
   "cell_type": "markdown",
   "metadata": {},
   "source": [
    "Das traditionelle __userbasierte Collaborative Filtering (UCF)__, benutzt die Ähnlichkeit zwischen Benutzern: Um für User $U_i$ eine Empfehlung zu erzeugen wird zunächst der diesem User ähnlichste Kunde (oder eine Menge vom ähnlichsten Kunden) ermittelt. Dann werden $U_i$ die Produkte (Items) empfohlen, welche der ähnlichste Kunde gekauft hat, $U_i$ selbst jedoch noch nicht. \n",
    "\n",
    "Dieser Ansatz skaliert schlecht im Fall sehr großer _User/Item_-Matrizen. Ausserdem ist er für User, welche erst wenige Produkte gekauft haben unzuverlässig. Besser eignet sich in diesen Fällen das __itembasierte Collaborative Filtering (ICF)__. Es wird u.a. von Amazon.com eingesetzt. Diese Variante benutzt die Ähnlichkeit zwischen Produkten (Items). Dabei sind Produkte umso ähnlicher je mehr Kunden diese Produkte gemeinsam gekauft haben. Für die Produkte welche ein Referenzuser $U_i$ bereits gekauft hat, werden die ähnlichsten Produkte ermittelt. Diese ähnlichsten Produkte werden $U_i$ empfohlen, wenn er sie nicht schon selbst gekauft hat.\n",
    "\n",
    "Im folgenden Abschnitt werden einige gebräuchliche Metriken für die Berechnung der Ähnlichkeit zwischen Benutzern oder Artikeln vorgestellt. Für Collaboratives Filtering wird sehr häufig das Cosinus - Ähnlichkeitsmaß eingesetzt.\n"
   ]
  },
  {
   "cell_type": "markdown",
   "metadata": {},
   "source": [
    "### Gebräuchliche Ähnlichkeitsmaße\n",
    "\n",
    "Die __euklidische Distanz__ $d_E(\\underline{a},\\underline{b})$ zwischen zwei n-dimensionalen Vektoren $\\underline{a}=(a_1,\\ldots,a_n)$ und $\\underline{b}=(b_1,\\ldots,b_n)$ berechnet sich zu\n",
    "\t$$\n",
    "\td_E(\\underline{a},\\underline{b})=\\sqrt{\\sum_{i=1}^n (a_i-b_i)^2}\n",
    "\t$$\n",
    "Zwei Vektoren können als umso ähnlicher erachtet werden, je kleiner deren euklidische Distanz ist. \n",
    "Ein auf der euklidischen Metrik basierendes Ähnlichkeitsmaß zwischen zwei Vektoren $\\underline{a}$ und $\\underline{b}$ kann durch \n",
    "$$\n",
    "s_E(\\underline{a},\\underline{b})=\\frac{1}{1+d_E(\\underline{a},\\underline{b})}\n",
    "$$\n",
    "angegeben werden.\n",
    "\n",
    "\n",
    "__Pearson Korrelation__\n",
    "Die Ähnlichkeit zwischen zwei Vektoren kann auch durch den Pearson-Korrelationskoeffizient $\\rho_{\\underline{a},\\underline{b}}$ ausgedrückt werden. Er berechnet sich zu\n",
    "$$\n",
    "\\rho_{\\underline{a},\\underline{b}}= \\frac{1}{N}\\cdot \\sum\\limits_{i=1}^{N}\\frac{(a_i-\\overline{a})}{\\sigma_a} \\frac{(b_i-\\overline{b})}{\\sigma_b}\n",
    "$$\n",
    "Dabei bezeichnet $N$ die Länge der Vektoren, $\\overline{a}$ den Mittelwert und $\\sigma_a$ die Standardabweichung des Vektors $\\underline{a}$. \n",
    "\n",
    "Der Pearson-Korrelationskoeffizient misst die lineare Abhängigkeit zwischen zwei Vektoren. Der maximale Wert von $+1$ wird erreicht, wenn die durch die beiden Vektoren definierten N Punkte im 2-dimensionalen Raum auf einer ansteigenden Geraden liegen. Der Minimalwert von $-1$ wird erreicht, wenn die Punkte auf einer abfallenden Geraden liegen. Der Betrag des Koeffizienten ist umso kleiner, je stärker die Punkte von einer fiktiven Geraden (kann durch lineare Regression berechnet werden) abweichen. Der Koeffizient ist $0$ wenn keine lineare Abhängigkeit zwischen den Vektoren besteht.\n",
    "\n",
    "\n",
    "__Cosinus Ähnlichkeitsmaß__\n",
    "Die Ähnlichkeit zwischen zwei Vektoren kann auch durch den Cosinus $\\cos(\\underline{a},\\underline{b})$ ausgedrückt werden. Er berechnet sich zu\n",
    "$$\n",
    "\\cos(\\underline{a},\\underline{b})= \\frac{\\underline{a} \\cdot \\underline{b}}{\\left\\|\\underline{a}\\right\\|\\cdot \\left\\|\\underline{b}\\right\\|}\n",
    "$$\n",
    "wobei im Zähler das Skalarprodukt der beiden Vektoren steht und mit $\\left\\|\\underline{x}\\right\\|$ der Betrag des Vektors $\\underline{x}$ bezeichnet wird.\n",
    "\n",
    "Falls die Vektoren $\\underline{a}$ und $\\underline{b}$ mittelwertfrei sind, ist der Cosinus-Ähnlichkeitswert gleich dem Pearson-Korrelationswert. In der Dokument- und Textanalyse wird vornehmlich das Cosinus-Ähnlichkeitsmaß verwendet. \n",
    "\n",
    "\n",
    "__Russel Rao Ähnlichkeitsmaß__\n",
    "Die Russel Rao-Ähnlichkeit zwischen zwei binären Vektoren $\\underline{a}$ und $\\underline{b}$ mißt das Verhältnis zwischen der Anzahl $\\alpha$ der Stellen in denen beide Vektoren den Wert 1 haben und der Länge $n$ der Vektoren. Z.B. ist für die Vektoren $\\underline{a}=(1,0,1,0,0,1)$ und $\\underline{b}=(0,1,1,1,0,1)$ die Russel-Rao-Ähnlichkeit $s_{RR}(\\underline{a},\\underline{b})=2/6=0.333$.\n",
    "\n",
    "__Jaccard Ähnlichkeitsmaß__\n",
    "Die Jaccard-Ähnlichkeit zwischen zwei binären Vektoren $\\underline{a}$ und $\\underline{b}$ mißt das Verhältnis zwischen der Anzahl $\\alpha$ der Stellen in denen beide Vektoren den Wert $1$ haben und der Anzahl der Stellen in denen mindestens einer der beiden Vektoren ungleich $0$ ist. Z.B. ist für die Vektoren $\\underline{a}=(1,0,1,0,0,1)$ und $\\underline{b}=(0,1,1,1,0,1)$ die Jaccard-Ähnlichkeit $s_{J}(\\underline{a},\\underline{b})=2/5=0.4$. Die Jaccard Metrik wird in diesem Versuch für die Bestimmung der Ähnlichkeit von _last.fm_-Usern eingesetzt.\n"
   ]
  },
  {
   "cell_type": "markdown",
   "metadata": {},
   "source": [
    "## Vor dem Versuch zu klärende Fragen\n",
    "Eine Untermenge der im Folgenden aufgeführten Fragen wird zu Beginn des Versuchs im Rahmen eines Gruppenkolloqs abgefragt. Auf jede Frage sollte von mindestens einem Gruppenmitglied eine Antwort geliefert werden und jedes Gruppenmitglied muss mindestens eine der gestellten Fragen beantworten können.\n",
    "\n",
    "**Aufgaben:**\n",
    "\n",
    "* Beschreiben Sie das Prinzip des userbasierten Collaborativen Filtering (UCF)."
   ]
  },
  {
   "cell_type": "markdown",
   "metadata": {
    "collapsed": true
   },
   "source": [
    "Hierbei werden Verhaltensmuster von Benutzergruppen ausgewertet, um auf die Interessen Einzelner zu schliessen.\n",
    "\n",
    "Beim userbasierten Collaborativen Filtering wird für einen Kunden A, dem eine Empfehlung gemacht werden soll, \n",
    "der ähnlichste Kunde B, bzw. eine Menge von ähnlichsten Kunden ermittelt. \n",
    "Dem Kunden A werden dann die Produkte empfohlen, die er noch nicht gekauft hat, aber Kunde B bereits gekauft hat."
   ]
  },
  {
   "cell_type": "markdown",
   "metadata": {},
   "source": [
    "* Welche Nachteile hat das UCF?"
   ]
  },
  {
   "cell_type": "markdown",
   "metadata": {
    "collapsed": true
   },
   "source": [
    "Umso größer die Kunden-Item-Matrix ist, desto schlechter skaliert der UCF-Ansatz. \n",
    "Auch für Kunden, die erst wenig Produkte gekauft haben, ist der Ansatz eher schlecht geeignet. \n",
    "Denn umso weniger Produkte ein Kunde gekauft hat, desto schwerer ist es, einen ähnlichen Kunden zu finden."
   ]
  },
  {
   "cell_type": "markdown",
   "metadata": {},
   "source": [
    "* Worin besteht der Unterschied zwischen UCF und itembasierten Collaborativen Filtering (ICF)?"
   ]
  },
  {
   "cell_type": "markdown",
   "metadata": {
    "collapsed": true
   },
   "source": [
    "Das UCF vegleicht den Datenbestand zweier User, wohingegen das ICF die Ähnlichkeit zwischen Produkten nutzt. \n",
    "Beim ICF muss man nur einzelne Produktklassen betrachten, daher skaliert das ICF weitaus besser mit großen Datenmengen.\n",
    "\n",
    "Beispiel:   Eine Festplatte der Firma Seagate ist ein ähnliches Produkt wie eine Festplatte der Firma Samsung. \n",
    "            A und viele andere User haben die Seagate Festplatte gekauft. Ein Großteil der anderen Benutzer \n",
    "            haben aber auch die Samsung Festplatte gekauft. A besitzt die Samsung Festplatte jedoch nicht, \n",
    "            daher wird ihm diese Festplatte Empfohlen."
   ]
  },
  {
   "cell_type": "markdown",
   "metadata": {},
   "source": [
    "* Gegeben seien die Vektoren \n",
    "\n",
    "    \\begin{eqnarray*}\n",
    "    \\underline{a} & = & [1,2,3,4,5,6] \\\\\n",
    "    \\underline{b} & = & [3,3,5,6,7,8] \\\\\n",
    "    \\end{eqnarray*}\n",
    "    \n",
    "    Schreiben Sie eine Python Funktion, die den Mittelwert derartiger Vektoren berechnet. Schreiben Sie eine weitere Funktion, die die Varianz berechnet"
   ]
  },
  {
   "cell_type": "markdown",
   "metadata": {},
   "source": [
    "#### calculateMean - Funktion, die den Mittelwert berechnet\n",
    "Alle Elemente des übergebenen Vektors werden summiert und die Summe anschließend durch die Anzahl der Elemente des Vektors geteilt."
   ]
  },
  {
   "cell_type": "code",
   "execution_count": 1,
   "metadata": {},
   "outputs": [],
   "source": [
    "def calculateMean(vector):\n",
    "    sum = 0\n",
    "    for element in vector:\n",
    "        sum += element\n",
    "    result = float(sum) / float(len(vector))\n",
    "    return result"
   ]
  },
  {
   "cell_type": "markdown",
   "metadata": {},
   "source": [
    "#### variance - Funktion, die die Varianz berechnet\n",
    "Der Mittelwert des Vektors wird mit der bereits implementierten Funktion *calculateMean* ermittelt. Anschließend wird die Summe aller quadrierten Differenzen zwischen jedem Element und dem Mittelwert gebildet. Diese Summe wird durch die Anzahl Elemente des Vektors geteilt."
   ]
  },
  {
   "cell_type": "code",
   "execution_count": 2,
   "metadata": {},
   "outputs": [],
   "source": [
    "def variance(vector):\n",
    "    mean = calculateMean(vector)\n",
    "    sum = 0\n",
    "    for element in vector:\n",
    "        sum += (element-mean)**2\n",
    "    result = float(sum) / float(len(vector))\n",
    "    return result"
   ]
  },
  {
   "cell_type": "markdown",
   "metadata": {},
   "source": [
    "#### Berechnung von Mittelwert und Varianz der Vektoren a und b mithilfe der selbst geschriebenen Funktionen"
   ]
  },
  {
   "cell_type": "code",
   "execution_count": 3,
   "metadata": {},
   "outputs": [
    {
     "name": "stdout",
     "output_type": "stream",
     "text": [
      "Mean a:  3.5\n",
      "Mean b:  5.33333333333\n",
      "Variance a:  2.91666666667\n",
      "Variance b:  3.55555555556\n"
     ]
    }
   ],
   "source": [
    "a = [1, 2, 3, 4, 5, 6]\n",
    "b = [3, 3, 5, 6, 7, 8]\n",
    "\n",
    "print \"Mean a: \", calculateMean(a)\n",
    "print \"Mean b: \", calculateMean(b)\n",
    "print \"Variance a: \", variance(a)\n",
    "print \"Variance b: \", variance(b)"
   ]
  },
  {
   "cell_type": "markdown",
   "metadata": {},
   "source": [
    "#### Berechnung von Mittelwert und Varianz der Vektoren a und b mithilfe von Numpy"
   ]
  },
  {
   "cell_type": "code",
   "execution_count": 4,
   "metadata": {},
   "outputs": [
    {
     "name": "stdout",
     "output_type": "stream",
     "text": [
      "Mittelwert a: 3.5\n",
      "Mittelwert b 5.333333333333333\n",
      "Varianz a 2.9166666666666665\n",
      "Varianz b 3.5555555555555554\n"
     ]
    }
   ],
   "source": [
    "#Python Code 02 with numpy\n",
    "    #Konzept\n",
    "        \n",
    "        #Mittelwert a:\n",
    "        #   (1 + 2 + 3 + 4 + 5 + 6) / 6\n",
    "        #   = 21 / 6\n",
    "        #   = 3.5\n",
    "        #Varianz a:\n",
    "        #   ( (1-3.5)²+(2-3.5)²+(3-3.5)²+(4-3.5)²+(5-3.5)²+(6-3.5)² ) / 6\n",
    "        #   17.5 / 6\n",
    "        #   2.92\n",
    "        \n",
    "#Mittelwert:\n",
    "import numpy as np\n",
    "a = np.array(a)\n",
    "b = np.array(b)\n",
    "aMean = np.mean(a)\n",
    "print 'Mittelwert a:',aMean\n",
    "#3,5\n",
    "bMean = np.mean(b)\n",
    "print 'Mittelwert b',bMean\n",
    "#5,3333\n",
    "\n",
    "#Varianz:\n",
    "aVar = np.var(a)\n",
    "print 'Varianz a',aVar\n",
    "#2,92\n",
    "bVar = np.var(b)\n",
    "print 'Varianz b',bVar\n",
    "#3,5"
   ]
  },
  {
   "cell_type": "markdown",
   "metadata": {},
   "source": [
    "* Wie groß ist die\n",
    "\n",
    "    - Euklidische Ähnlichkeit\n",
    "    - Pearson Ähnlichkeit\n",
    "    - Cosinus Ähnlichkeit\n",
    "    \n",
    "    zwischen den Vektoren $\\underline{a}$ und $\\underline{b}$? "
   ]
  },
  {
   "cell_type": "markdown",
   "metadata": {
    "collapsed": true
   },
   "source": [
    "#### Euklidische Ähnlichkeit\n",
    "$d(euclidean)=\\sqrt{(1-3)^2+(2-3)^2+(3-5)^2+(4-6)^2+(5-7)^2+(6-8)^2}=\\sqrt{21}$<br>\n",
    "$s(euclidean)=\\frac{1}{1+d(euclidean)}=\\frac{1}{1+\\sqrt{21}}=\\frac{1}{1+4.58}=0.18$<br>\n",
    "\n",
    "---\n",
    "\n",
    "#### Pearsonähnlichkeit\n",
    "- Mittelwert von a = 3.5\n",
    "- Mittelwert von b = 5.333\n",
    "- Varianz von a = 2.9167\n",
    "- Varianz von b = 3.5556\n",
    "- Standardabweichung von a = $\\sqrt{2.9167}$\n",
    "- Standardabweichung von a = $\\sqrt{3.556}$\n",
    "\n",
    "$s(pearson)=\\frac{1}{6}*(\\frac{(1-3.5)*(3-5.3)}{\\sqrt{2.9167}*\\sqrt{3.556}}+\n",
    "              \\frac{(2-3.5)*(3-5.3)}{\\sqrt{2.9167}*\\sqrt{3.556}}+\n",
    "              \\frac{(3-3.5)*(5-5.3)}{\\sqrt{2.9167}*\\sqrt{3.556}}+\n",
    "              \\frac{(4-3.5)*(6-5.3)}{\\sqrt{2.9167}*\\sqrt{3.556}}+\n",
    "              \\frac{(5-3.5)*(7-5.3)}{\\sqrt{2.9167}*\\sqrt{3.556}}+\n",
    "              \\frac{(6-3.5)*(8-5.3)}{\\sqrt{2.9167}*\\sqrt{3.556}}) = 0.983$\n",
    "\n",
    "---\n",
    "\n",
    "#### Cosinusähnlicheit\n",
    "$s(cosinus)=\\frac{\\vec{a}*\\vec{b}}{||\\vec{a}||*||\\vec{b}||}=\\frac{\\{1, 2, 3, 4, 5, 6\\}*\\{3, 3, 5, 6, 7, 8\\}}{\\sqrt{1^2+2^2+3^2+4^2+5^2+6^2}*\\sqrt{3^2+3^2+5^2+6^2+7^2+8^2}}=\\frac{131}{9.599*13.856}=0.991$"
   ]
  },
  {
   "cell_type": "markdown",
   "metadata": {},
   "source": [
    "* In welchen Fällen sind Cosinus- und Pearsonähnlichkeit der euklidischen Ähnlichkeit vorzuziehen?"
   ]
  },
  {
   "cell_type": "markdown",
   "metadata": {
    "collapsed": true
   },
   "source": [
    "Cosinus und Peasonähnlichkeit eignet sich besonders für skalierende Werte, \n",
    "da es nicht die Distanz zu 2 Werten berechnet sondern den Abstand von einem Idealwert und darüberhinaus Informationen \n",
    "über die Richtung angibt. Cosinus und Pearsonähnlichkeit eignet sich daher für Collaborative Fitting."
   ]
  },
  {
   "cell_type": "code",
   "execution_count": 5,
   "metadata": {},
   "outputs": [],
   "source": [
    "from IPython.display import Latex\n",
    "from IPython.display import Image\n",
    "import pylast"
   ]
  },
  {
   "cell_type": "markdown",
   "metadata": {},
   "source": [
    "# Versuchsdurchführung\n",
    "## Teil 1: Fiktive Filmbewertung\n",
    "### Daten\n",
    "Folgende Tabelle enthält die Filmbewertungen von 7 Personen.\n",
    "from IPython.display import Latex\n",
    "In diesem Versuch sollen Kenntnisse in folgenden Themen vermittelt werden:\n",
    "\n",
    "![Abbildung Bewertung Fiktive Kunden](https://www.hdm-stuttgart.de/~maucher/ipnotebooks/DataMining/Bilder/recommenderFilmRecommendations.PNG)"
   ]
  },
  {
   "cell_type": "markdown",
   "metadata": {},
   "source": [
    "Die Tabelle ist als Python dictionary _critics_ implementiert. Die Keys des Python-Dictionary definieren die Namen von Personen (Zeilen in der Matrix), die Filme bewertet haben. Die Values sind selbst wieder Dictionarys, welche als Keys die Filmnamen (Spalten in der Matrix) und als Values die jeweilige Filmbewertung (Matrixelment) enthalten."
   ]
  },
  {
   "cell_type": "code",
   "execution_count": 6,
   "metadata": {},
   "outputs": [],
   "source": [
    "critics={'Lisa Rose': {'Lady in the Water': 2.5, 'Snakes on a Plane': 3.5,\n",
    " 'Just My Luck': 3.0, 'Superman Returns': 3.5, 'You, Me and Dupree': 2.5, \n",
    " 'The Night Listener': 3.0},\n",
    "'Gene Seymour': {'Lady in the Water': 3.0, 'Snakes on a Plane': 3.5, \n",
    " 'Just My Luck': 1.5, 'Superman Returns': 5.0, 'The Night Listener': 3.0, \n",
    " 'You, Me and Dupree': 3.5}, \n",
    "'Michael Phillips': {'Lady in the Water': 2.5, 'Snakes on a Plane': 3.0,\n",
    " 'Superman Returns': 3.5, 'The Night Listener': 4.0},\n",
    "'Claudia Puig': {'Snakes on a Plane': 3.5, 'Just My Luck': 3.0,\n",
    " 'The Night Listener': 4.5, 'Superman Returns': 4.0, \n",
    " 'You, Me and Dupree': 2.5},\n",
    "'Mick LaSalle': {'Lady in the Water': 3.0, 'Snakes on a Plane': 4.0, \n",
    " 'Just My Luck': 2.0, 'Superman Returns': 3.0, 'The Night Listener': 3.0,\n",
    " 'You, Me and Dupree': 2.0}, \n",
    "'Jack Matthews': {'Lady in the Water': 3.0, 'Snakes on a Plane': 4.0,\n",
    " 'The Night Listener': 3.0, 'Superman Returns': 5.0, 'You, Me and Dupree': 3.5},\n",
    "'Toby': {'Snakes on a Plane':4.5,'You, Me and Dupree':1.0,'Superman Returns':4.0}\n",
    "}"
   ]
  },
  {
   "cell_type": "markdown",
   "metadata": {},
   "source": [
    "### Ähnlichkeiten berechnen\n",
    "\n",
    "Für die Bestimmung der Ähnlichkeit zwischen Personen und Produkten werden in diesem Versuch ein auf der euklidischen Distanz basierendes Ähnlichkeitsmaß und die Pearson-Korrelation verwendet. Beide Ähnlichkeitsmaße sind in den unten definierten Funktionen implementiert. Alle drei hier implementierten Funktionen zur Berechnung der Ähnlichkeit erhalten als Übergabeparameter das oben definierte Dictionary, das die Filmbewertungen enthält und die Namen der zwei Personen, die verglichen werden sollen. \n",
    "\n",
    "Zu beachten ist, dass in beiden Funktionen für die Berechnung der Ähnlichkeit zwischen zwei Personen nur die Produkte berücksichtigt werden, welche von beiden Personen schon bewertet wurden. Es handelt sich hier also um modifizierte Ähnlichkeitsfunktionen. \n",
    "\n",
    "__Aufgabe:__\n",
    "Fragen Sie von diesem Dictionary _Toby's_ Bewertung des Films _Snakes on a Plane_ ab und geben Sie diesen Wert aus: "
   ]
  },
  {
   "cell_type": "code",
   "execution_count": 7,
   "metadata": {},
   "outputs": [
    {
     "name": "stdout",
     "output_type": "stream",
     "text": [
      "--------------------------------------------------- Toby's critic --------------------------------------------------- \n",
      "Snakes on a Plane:  4.5\n",
      "---------------------------------------------------------------------------------------------------------------------\n"
     ]
    }
   ],
   "source": [
    "print '-'*51,\"Toby's critic\",'-'*51,'\\n', 'Snakes on a Plane: ', critics['Toby']['Snakes on a Plane']\n",
    "print '-'*117"
   ]
  },
  {
   "cell_type": "code",
   "execution_count": 8,
   "metadata": {},
   "outputs": [],
   "source": [
    "import numpy as np\n",
    "import scipy.spatial.distance as sci\n",
    "\n",
    "\n",
    "def sim_euclid(prefs,person1,person2,normed=True):\n",
    "  ''' Returns a euclidean-distance-based similarity score for \n",
    "  person1 and person2. In the distance calculation the sum is computed \n",
    "  only over those items, which are nonzero for both instances, i.e. only\n",
    "  films which are ranked by both persons are regarded.\n",
    "  If the parameter normed is True, then the euclidean distance is divided by\n",
    "  the number of non-zero elements integrated in the distance calculation. Thus\n",
    "  the effect of larger distances in the case of an increasing number of commonly ranked\n",
    "  items is avoided.\n",
    "  '''\n",
    "  # Get the list of shared_items\n",
    "  si={}\n",
    "  for item in prefs[person1]: \n",
    "    if item in prefs[person2]: si[item]=1\n",
    "  # len(si) counts the number of common ratings\n",
    "  # if they have no ratings in common, return 0\n",
    "  if len(si)==0: return 0\n",
    "\n",
    "  # Add up the squares of all the differences\n",
    "  sum_of_squares=np.sqrt(sum([pow(prefs[person1][item]-prefs[person2][item],2) \n",
    "                     for item in prefs[person1] if item in prefs[person2]]))\n",
    "  if normed:\n",
    "     sum_of_squares= 1.0/len(si)*sum_of_squares\n",
    "  return 1/(1+sum_of_squares)\n",
    "\n",
    "\n",
    "def sim_pearson(prefs,p1,p2):\n",
    "  '''\n",
    "  Returns the Pearson correlation coefficient for p1 and p2\n",
    "  '''\n",
    "    \n",
    "  # Get the list of commonly rated items\n",
    "  si={}\n",
    "  for item in prefs[p1]: \n",
    "    if item in prefs[p2]: si[item]=1\n",
    "\n",
    "  # if they are no ratings in common, return 0\n",
    "  if len(si)==0: return 0\n",
    "\n",
    "  # Sum calculations\n",
    "  n=len(si)\n",
    "  \n",
    "  # Calculate means of person 1 and 2\n",
    "  mp1=np.mean([prefs[p1][it] for it in si])\n",
    "  mp2=np.mean([prefs[p2][it] for it in si])\n",
    "  \n",
    "  # Calculate standard deviation of person 1 and 2\n",
    "  sp1=np.std([prefs[p1][it] for it in si])\n",
    "  sp2=np.std([prefs[p2][it] for it in si])\n",
    "  \n",
    "  # If all elements in one sample are identical, the standard deviation is 0. \n",
    "  # In this case there is no linear correlation between the samples\n",
    "  if sp1==0 or sp2==0:\n",
    "      return 0\n",
    "  r=1/(n*sp1*sp2)*sum([(prefs[p1][it]-mp1)*(prefs[p2][it]-mp2) for it in si])\n",
    "  return r\n",
    "\n",
    "\n",
    "def sim_RusselRao(prefs,person1,person2,normed=True):\n",
    "  ''' Returns RusselRao similaritiy between 2 users. The RusselRao similarity just counts the number\n",
    "  of common non-zero components of the two vectors and divides this number by N, where N is the length\n",
    "  of the vectors. If normed=False, the division by N is omitted.\n",
    "  '''\n",
    "  # Get the list of shared_items\n",
    "  si={}\n",
    "  commons=0\n",
    "  for item in prefs[person1]: \n",
    "    if prefs[person1][item]==1 and prefs[person2][item]==1:   \n",
    "        commons+=1\n",
    "  #print commons\n",
    "  if not normed:\n",
    "      return commons\n",
    "  else:\n",
    "      return commons*1.0/len(prefs[person1]) "
   ]
  },
  {
   "cell_type": "markdown",
   "metadata": {},
   "source": [
    "**Aufgabe:**\n",
    "1. Geben Sie die euklidische Ähnlichkeit und die Pearson Ähnlichkeit zwischen den Personen _Toby_ und _Lisa Rose_ aus.\n",
    "2. Diskutieren Sie die unterschiedlichen Ähnlichkeitswert\n",
    "3. Welches Ähnlichkeitsmaß erscheint Ihnen für diese Anwendung am besten geeignet?"
   ]
  },
  {
   "cell_type": "markdown",
   "metadata": {
    "collapsed": true
   },
   "source": [
    "#### Aufgabe 1"
   ]
  },
  {
   "cell_type": "code",
   "execution_count": 9,
   "metadata": {},
   "outputs": [
    {
     "name": "stdout",
     "output_type": "stream",
     "text": [
      "----------------------------------------------- euclidean similarity ----------------------------------------------- \n",
      "Toby & Lisa Rose:  0.615911621788925\n",
      "------------------------------------------------ pearson similarity ------------------------------------------------ \n",
      "Toby & Lisa Rose:  0.9912407071619302\n",
      "--------------------------------------------------------------------------------------------------------------------\n"
     ]
    }
   ],
   "source": [
    "print '-'*47,'euclidean similarity','-'*47,'\\n', 'Toby & Lisa Rose: ', sim_euclid(critics,'Toby','Lisa Rose')\n",
    "print '-'*48,'pearson similarity','-'*48,'\\n', 'Toby & Lisa Rose: ', sim_pearson(critics,'Toby','Lisa Rose')\n",
    "print '-'*116"
   ]
  },
  {
   "cell_type": "markdown",
   "metadata": {},
   "source": [
    "#### Aufgabe 2\n",
    "\n",
    "Die Ähnlichkeiten unterscheiden sich so deutlich, da die euklidische Distanz den persönlichen Offset eines Users nicht beachtet. Besonders bei Bewertungen tritt dieser persönliche Offset auf. Angenommen, eine Person bewertet Filme generell eher schlechter, weil sie sich denkt, es geht immer etwas besser. Die Bewertungen dieser Person würde, im Vergleich zu einer Person, die bei Ihren Bewertungen auch mal eine volle Punktzahl gibt, mit einem euklidischen Ähnlichkeitsmaß als eher unähnlich angesehen werden.\n",
    "Bei der Pearsonähnlichkeit werden Korrelationen bei Vielfachen erkannt. Bsp:\n",
    "  > Person A bewertet drei Filme mit (1, 1.5, 1), Person B bewertet dieselben drei Filme mit (3, 4.5, 3)<br>\n",
    "  > die Pearsonähnlichkeit würde Person A und Person B als maximal ähnlich ansehen, da alle Bewertungen von B ein Vielfaches (3-faches) der entsprechenden Bewertungen von A sind.<br>\n",
    "  \n",
    "Sieht man bei der Pearsonähnlichkeit die numerischen Werte, der zu vergleichenden Vektoren, als x- und y-Koordinaten eines Koordinatensystems und betrachtet die Regressionsgerade zu allen entstehenden Punkten, gilt:\n",
    " - Liegen alle Punkte auf der Geraden, ist die Korrelation entweder maximal +1 (positive Steigung der Gerade) oder -1 (negative Steigung der Geraden).\n",
    "     -  Ist der **Korrelationskoeffizient +1**, liegt eine **vollkommene Korrelation** vor. Auf das Beispiel von Bewertungen übertragen würde das bedeuten, dass Kunde A im Verhältnis gleich wie Kunde B bewertet.\n",
    "     -  Ist der **Korrelationskoeffizient -1**, liegt eine **negative Korrelation** vor. Bei Bewertungen würde das bedeuten, umso besser Kunde A bewertet hat, desto schlechter hat Kunde B bewertet.\n",
    " - Umso stärker die Streuung der Punkte um die Regressionsgerade ist, desto näher liegt der Korrelationskoeffizient bei 0. Ist der **Koeffizient 0**, wären die Daten der Kunden **nicht korreliert** und man könnte keine Vorhersage der Bewertungen von Kunde B auf Basis der Bewertungen von Kunde A machen."
   ]
  },
  {
   "cell_type": "markdown",
   "metadata": {},
   "source": [
    "#### Aufgabe 3\n",
    "Da bei unserem Anwendungsfall Bewertungen vorliegen, bei denen nicht bekannt ist, wie der persönliche Offset des Users ist, eignet sich die Pearsonähnlichkeit hier am besten. So können auch negative Korrelationen erkannt werden. Wenn bspw. zwei Nutzer jeden Film gegensätzlich bewerten, kann man davon ausgehen, dass die beiden Nutzer einen grundsätzlich unterschiedlichen Filmgeschmack - ggf. auch unterschiedlichen Humor - haben. "
   ]
  },
  {
   "cell_type": "markdown",
   "metadata": {},
   "source": [
    "__Aufgabe:__\n",
    "0. Schreiben Sie eine Funktion _topMatches(prefs,person,similarity)_, welche für eine beliebige in _critics_ enthaltene Person die Ähnlichkeitswerte zu allen anderen Personen berechnet und in einer geordneten Liste zurück gibt. Der Funktion soll als Übergabeparameter auch die anzuwendende Ähnlichkeitsfunktion (_sim_euclid_ oder _sim_pearson_) übergeben werden können. Berechnen Sie mit dieser Funktion für jede Person die _top matches_, zunächst unter Verwendung der euklidischen- dann unter Verwendung der Pearson-Ähnlichkeit.\n",
    "1. Geben Sie mit der implementierten Funktion die _top matches_ der Person Toby aus.\n",
    "2. Vergleichen Sie die beiden Ähnlichkeitsmaße. Welches Ähnlichkeitsmaß erscheint Ihnen für diesen Anwendungsfall sinnvoller und warum?"
   ]
  },
  {
   "cell_type": "markdown",
   "metadata": {},
   "source": [
    "#### Aufgabe 1\n",
    "Die Funktion topMatches reduziert die übergebene Tabelle (prefs) um die Zeile (matchItem), zu der die Ähnlichkeiten aller anderen Zeilen berechnet werden soll. Mit dem Übergabeparameter *similarity* kann man festlegen, mit welchem Ähnlichkeitsmaß die Berechnung durchgeführt werden soll. Am Ende wird eine sortierte Liste mit allen Items und zugehörigem Ähnlichkeitswert zurückgegeben."
   ]
  },
  {
   "cell_type": "code",
   "execution_count": 10,
   "metadata": {},
   "outputs": [],
   "source": [
    "def topMatches(prefs, matchItem, similarity):\n",
    "    prefsReduced = {key: value for key, value in prefs.items()\n",
    "                    if key is not matchItem}\n",
    "    similarities = {}\n",
    "    for key, value in prefsReduced.items():\n",
    "        if similarity == '_simeuclid':\n",
    "            similarities.update({key:(sim_euclid(prefs, matchItem, key))})\n",
    "        elif similarity == '_simpearson':\n",
    "            similarities.update({key:(sim_pearson(prefs, matchItem, key))})\n",
    "        elif similarity == '_simrussel':\n",
    "            similarities.update({key:(sim_RusselRao(prefs, matchItem, key))})\n",
    "        else:\n",
    "            return {}\n",
    "        \n",
    "    list = sorted(similarities.items(), key=lambda t: t[1], reverse=True)\n",
    "\n",
    "    return list"
   ]
  },
  {
   "cell_type": "code",
   "execution_count": 11,
   "metadata": {},
   "outputs": [
    {
     "name": "stdout",
     "output_type": "stream",
     "text": [
      "--------------------------------------------------- Jack Matthews ---------------------------------------------------\n",
      "   -------------------------------------------- EUCLIDEAN SIMILARITIES --------------------------------------------   \n",
      "[('Gene Seymour', 0.9090909090909091), ('Lisa Rose', 0.7208254886814803), ('Mick LaSalle', 0.6666666666666666), ('Claudia Puig', 0.6534537935444722), ('Michael Phillips', 0.6534537935444722), ('Toby', 0.5227744249483389)] \b\n",
      "   --------------------------------------------- PEARSON SIMILARITIES ---------------------------------------------   \n",
      "[('Gene Seymour', 0.9637956818756331), ('Lisa Rose', 0.7470178808339961), ('Toby', 0.6628489803598703), ('Mick LaSalle', 0.21128856368212914), ('Michael Phillips', 0.13483997249264842), ('Claudia Puig', 0.02857142857142857)] \n",
      "\n",
      "--------------------------------------------------- Mick LaSalle ---------------------------------------------------\n",
      "   -------------------------------------------- EUCLIDEAN SIMILARITIES --------------------------------------------   \n",
      "[('Lisa Rose', 0.8092564301694538), ('Michael Phillips', 0.7166996059009808), ('Gene Seymour', 0.6978305207480379), ('Claudia Puig', 0.6964322291925094), ('Jack Matthews', 0.6666666666666666), ('Toby', 0.6666666666666666)] \b\n",
      "   --------------------------------------------- PEARSON SIMILARITIES ---------------------------------------------   \n",
      "[('Toby', 0.9244734516419051), ('Lisa Rose', 0.5940885257860046), ('Claudia Puig', 0.5669467095138409), ('Gene Seymour', 0.4117647058823529), ('Jack Matthews', 0.21128856368212914), ('Michael Phillips', -0.2581988897471611)] \n",
      "\n",
      "--------------------------------------------------- Claudia Puig ---------------------------------------------------\n",
      "   -------------------------------------------- EUCLIDEAN SIMILARITIES --------------------------------------------   \n",
      "[('Michael Phillips', 0.7759907622602041), ('Lisa Rose', 0.7597469266479578), ('Mick LaSalle', 0.6964322291925094), ('Gene Seymour', 0.6622946603252993), ('Jack Matthews', 0.6534537935444722), ('Toby', 0.6246387977050463)] \b\n",
      "   --------------------------------------------- PEARSON SIMILARITIES ---------------------------------------------   \n",
      "[('Michael Phillips', 1.0000000000000002), ('Toby', 0.8934051474415644), ('Mick LaSalle', 0.5669467095138409), ('Lisa Rose', 0.5669467095138409), ('Gene Seymour', 0.31497039417435596), ('Jack Matthews', 0.02857142857142857)] \n",
      "\n",
      "----------------------------------------------------- Lisa Rose -----------------------------------------------------\n",
      "   -------------------------------------------- EUCLIDEAN SIMILARITIES --------------------------------------------   \n",
      "[('Mick LaSalle', 0.8092564301694538), ('Michael Phillips', 0.7815501047457912), ('Claudia Puig', 0.7597469266479578), ('Jack Matthews', 0.7208254886814803), ('Gene Seymour', 0.714462989423532), ('Toby', 0.615911621788925)] \b\n",
      "   --------------------------------------------- PEARSON SIMILARITIES ---------------------------------------------   \n",
      "[('Toby', 0.9912407071619302), ('Jack Matthews', 0.747017880833996), ('Mick LaSalle', 0.5940885257860046), ('Claudia Puig', 0.5669467095138409), ('Michael Phillips', 0.40451991747794525), ('Gene Seymour', 0.39605901719066977)] \n",
      "\n",
      "------------------------------------------------------- Toby -------------------------------------------------------\n",
      "   -------------------------------------------- EUCLIDEAN SIMILARITIES --------------------------------------------   \n",
      "[('Mick LaSalle', 0.6666666666666666), ('Claudia Puig', 0.6246387977050463), ('Lisa Rose', 0.615911621788925), ('Michael Phillips', 0.5584815598877471), ('Jack Matthews', 0.5227744249483389), ('Gene Seymour', 0.5108747069239427)] \b\n",
      "   --------------------------------------------- PEARSON SIMILARITIES ---------------------------------------------   \n",
      "[('Lisa Rose', 0.9912407071619302), ('Mick LaSalle', 0.9244734516419051), ('Claudia Puig', 0.8934051474415644), ('Jack Matthews', 0.6628489803598703), ('Gene Seymour', 0.3812464258315117), ('Michael Phillips', -1.0)] \n",
      "\n",
      "--------------------------------------------------- Gene Seymour ---------------------------------------------------\n",
      "   -------------------------------------------- EUCLIDEAN SIMILARITIES --------------------------------------------   \n",
      "[('Jack Matthews', 0.9090909090909091), ('Lisa Rose', 0.714462989423532), ('Mick LaSalle', 0.6978305207480379), ('Michael Phillips', 0.6737986373538911), ('Claudia Puig', 0.6622946603252993), ('Toby', 0.5108747069239427)] \b\n",
      "   --------------------------------------------- PEARSON SIMILARITIES ---------------------------------------------   \n",
      "[('Jack Matthews', 0.963795681875633), ('Mick LaSalle', 0.4117647058823529), ('Lisa Rose', 0.39605901719066977), ('Toby', 0.3812464258315117), ('Claudia Puig', 0.31497039417435596), ('Michael Phillips', 0.20459830184114203)] \n",
      "\n",
      "------------------------------------------------- Michael Phillips -------------------------------------------------\n",
      "   -------------------------------------------- EUCLIDEAN SIMILARITIES --------------------------------------------   \n",
      "[('Lisa Rose', 0.7815501047457912), ('Claudia Puig', 0.7759907622602041), ('Mick LaSalle', 0.7166996059009808), ('Gene Seymour', 0.6737986373538911), ('Jack Matthews', 0.6534537935444722), ('Toby', 0.5584815598877471)] \b\n",
      "   --------------------------------------------- PEARSON SIMILARITIES ---------------------------------------------   \n",
      "[('Claudia Puig', 1.0000000000000002), ('Lisa Rose', 0.40451991747794525), ('Gene Seymour', 0.20459830184114203), ('Jack Matthews', 0.13483997249264842), ('Mick LaSalle', -0.2581988897471611), ('Toby', -1.0)] \n",
      "\n",
      "---------------------------------------------------------------------------------------------------------------------\n"
     ]
    }
   ],
   "source": [
    "for key in critics.keys():\n",
    "    ad = 117\n",
    "    d = (ad - key.__len__()-2)/2\n",
    "    de = (ad - 28)/2\n",
    "    dp = (ad - 26)/2\n",
    "    print '-'*d,key,'-'*d\n",
    "    print '  ','-'*de,'EUCLIDEAN SIMILARITIES','-'*de,'  \\n', topMatches(critics,key,'_simeuclid'),'\\b'\n",
    "    print '  ','-'*dp,'PEARSON SIMILARITIES','-'*dp,'  \\n', topMatches(critics,key,'_simpearson'),'\\n'\n",
    "print '-'*ad"
   ]
  },
  {
   "cell_type": "markdown",
   "metadata": {},
   "source": [
    "#### Aufgabe 2"
   ]
  },
  {
   "cell_type": "code",
   "execution_count": 12,
   "metadata": {},
   "outputs": [
    {
     "name": "stdout",
     "output_type": "stream",
     "text": [
      "------------------------------------ top matches for Toby (euclidean similarity) ------------------------------------ \n",
      "[('Mick LaSalle', 0.6666666666666666), ('Claudia Puig', 0.6246387977050463), ('Lisa Rose', 0.615911621788925), ('Michael Phillips', 0.5584815598877471), ('Jack Matthews', 0.5227744249483389), ('Gene Seymour', 0.5108747069239427)] \n",
      "\n",
      "------------------------------------- top matches for Toby (pearson similarity) ------------------------------------- \n",
      "[('Lisa Rose', 0.9912407071619302), ('Mick LaSalle', 0.9244734516419051), ('Claudia Puig', 0.8934051474415644), ('Jack Matthews', 0.6628489803598703), ('Gene Seymour', 0.3812464258315117), ('Michael Phillips', -1.0)] \n",
      "\n",
      "---------------------------------------------------------------------------------------------------------------------\n"
     ]
    }
   ],
   "source": [
    "print '-'*36,'top matches for Toby (euclidean similarity)','-'*36,'\\n', topMatches(critics, 'Toby','_simeuclid'),'\\n'\n",
    "print '-'*37,'top matches for Toby (pearson similarity)','-'*37,'\\n', topMatches(critics, 'Toby','_simpearson'),'\\n'\n",
    "print '-'*117"
   ]
  },
  {
   "cell_type": "markdown",
   "metadata": {},
   "source": [
    "#### Aufgabe 3\n",
    "*siehe Antwort der vorangegangenen Aufgabe 3*. Unsere Bewertung der Ähnlichkeitsmaße hat sich nicht veändert.\n",
    "\n",
    "Betrachtet man die Ähnlichkeitswerte und vergleicht sie mit den Bewertungen, die jeweilige User abgegeben haben, lassen sich folgende Punkte feststellen:\n",
    "\n",
    "> Die User Toby und Michael Phillips haben nur zwei Filme beide bewertet. Dabei hat der eine den einen besser, der andere den anderen besser bewertet. Während die euklidiche Ähnlichkeit bei ca. 0.56 liegt, liegt der Wert der Pearsonkorrelation bei -1, was bedeutet, dass die beiden als negativ korreliert angesehen werden. Eine negative Korrelation zweier User würde bedeuten, dass diese gegenläufige Interessen haben. Jedoch kann das bei nur zwei bewerteten Filmen nicht zuverlässig gesagt werden. Man kann also davon ausgehen, dass eine zuverlässige Pearsonkorrelation nur mit einer entsprechenden Menge Daten zuverlässig ist.\n",
    "\n",
    "> Auch für die User Michael Phillips und Mick LaSalle ergibt sich bei der Pearsonähnlichkeit ein negativer Wert (-0.26). Sie haben in ihren Bewertungen eine Schnittmenge von 4 Filmen. Dabei haben beide jeweils 2 Filme höher als der andere bewertet. Trotzdem werden die beiden nicht als maximal negativ korreliert - wie Michael Phillips und Toby - angesehen. Das bestätigt unsere Theorie, dass mit einer größeren Menge Daten die Pearsonkorrelation zurverlässiger ausfällt.\n",
    "\n",
    "> Bewerten zwei User alle Filme annähernd gleich, wie die User Jack Matthews und Gene Seymour, wird die Pearsonkorrelation die User auch als stark korreliert ansehen. Aber auch wenn zwei User Filme im Verhältnis gleich bewertet haben (Beispiel in Lösung Afg. 2, vorangegenagener Aufgabenblock) wird das Ergebnis eine hohe Pearsonkorrelation sein."
   ]
  },
  {
   "cell_type": "markdown",
   "metadata": {},
   "source": [
    "### Berechnung von Empfehlungen mit User basiertem Collaborative Filtering\n",
    "Für die Produkte, die von einer Person noch nicht gekauft wurden, sollen Empfehlungen berechnet werden. Die Empfehlungen können ebenfalls Werte zwischen 1 (wird nicht empfohlen) und 5 (wird stark empfohlen) annehmen. Für die Berechnung der Empfehlung werden die Bewertungen des jeweiligen Produkts durch die anderen Personen herangezogen. Dabei werden die Bewertungen der ähnlichen Personen (d.h. hoher Pearson-Korrelationswert) stärker mit einbezogen als die Bewertungen durch Personen mit einem niedrigen Korrelationswert.\n",
    "\n",
    "__Beispiel:__\n",
    "Toby hat die Filme _The Night Listener_, _Lady in the Water_ und _Just My Luck_ noch nicht gekauft. Für diese Filme soll für Toby eine Empfehlung berechnet werden.\n",
    "In der unten aufgeführten Tabelle enthält die zweite Spalte die _Pearson-Ähnlichkeitswerte_ zwischen Toby und den anderen Personen. Die Spalten 3, 5 und 7 enthalten die Bewertungen der Filme _The Night Listener_, _Lady in the Water_ und _Just My Luck_ durch die anderen Personen. Die Spalten 4, 6 und 8 enthalten die jeweilige Filmbewertung gewichtet (mulipliziert) mit den Ähnlichkeitswerten der jeweiligen Person. Es fällt auf, dass in der Tabelle _Michael_ nicht enthalten ist. Das liegt daran, dass _Michael_ und _Toby_ einen negativen Ähnlichkeitswert aufweisen, d.h. deren Interessen sind gegenläufig. Personen mit negativem Ähnlichkeitswert sollten für Empfehlungen nicht berücksichtigt werden.\n",
    "Die Zeile _Sum_ enthält die Summe aller gewichteten Bewertungen. Aus diesem Wert allein kann die Empfehlung noch nicht abgeleitet werden, da Filme die nur von wenigen Personen bewertet wurden, eine relativ kleine Summe ergeben. Deshalb sollte _Sum_ noch durch die Anzahl der Bewertungen für diesen Film geteilt werden. Oder besser: Nicht durch die Summe der Bewertungen, sondern durch die Summe der relevanten Ähnlichkeitswerte (_KSum_). Der resultierende Empfehlungswert ist in der letzten Zeile eingetragen.\n",
    "\n",
    "\n",
    "![Abbildung Calculate Recommendation](https://www.hdm-stuttgart.de/~maucher/ipnotebooks/DataMining/Bilder/recommenderFilmCalculation.PNG)\n"
   ]
  },
  {
   "cell_type": "markdown",
   "metadata": {},
   "source": [
    "__Aufgabe:__\n",
    "Schreiben Sie eine Funktion _getRecommendations(prefs,person,similarity)_, mit der die Empfehlungswerte berechnet werden können und bestimmen Sie die Empfehlungswerte für Toby. Der Funktion wird  \n",
    "\n",
    "* das Dictionary _critics_ mit den Filmbewertungen, \n",
    "* der Name der Person, für welche Empfehlungen berechnet werden sollen\n",
    "* die Methode für die Berechnung der Ähnlichkeit *sim_euclid* oder *sim_pearson*\n",
    "\n",
    "übergeben. Die Methode soll eine geordnete Liste zurück geben. Jedes Listenelement enthält an erster Stelle den berechneten Empfehlungswert und an zweiter Stelle den Namen des Films. Die Liste soll nach Empfehlungswerten absteigend geordnet sein.\n",
    "\n",
    "Testen Sie diese Funktion indem Sie die Empfehlungen für _Toby_ berechnen und mit den Werten in der oben aufgeführten Tabelle vergleichen."
   ]
  },
  {
   "cell_type": "markdown",
   "metadata": {},
   "source": [
    "#### Anmerkung\n",
    "\n",
    "Wie oben beschrieben, werden alle drei Kriterien an die Funktion übergeben und als geordnete Liste zurückgegeben. Unsere Liste wird in absteigender Reihenfolge(Empfehlungswert) für noch nicht gesehene Filme für die gegebene Person ausgegeben. Ebenso wird anderst wie oben beschrieben der Name an erster Stelle und der berechnete Empfehlungswert an zweiter Stelle ausgegeben. Dies dient der besseren Lesbarkeit.\n",
    "\n",
    "##### Codebeschreibung\n",
    "\n",
    "In der gesamten Funktion wird darauf geachtet, dass keine Ähnlichkeiten einer Person zu sich selbst berechnet werden. \n",
    "> if candidate == person:\n",
    "            continue\n",
    "            \n",
    "Für die übergebene Person wird zu jeder anderen Person die Ähnlichkeit berechnet und in ein Dictionary (sim) geschrieben.\n",
    "Über alle Personen, die keine negative Korrelationen zum dem User haben, dem die Empfehlung gemacht werden soll, wird  die Korrelationssumme (kSums) gebildet und das Produkt aus Korrelationskoeffizient und Filmbewertung aller Filme, die der User noch nicht gesehen, bzw. bewertet hat, aufsummiert (items in unknownMedia).\n",
    "Anschließend wird die Summe zu jedem Film durch die Summer der Korrelationskoeffizienten geteilt und das Ergebnis ist der finale Empfehlungswert zu jedem Film für den User. Zurückgegeben wir eine absteigend sortierte Liste."
   ]
  },
  {
   "cell_type": "code",
   "execution_count": 13,
   "metadata": {},
   "outputs": [],
   "source": [
    "def getRecommendations(prefs, person, similarity):\n",
    "\n",
    "    #01 compute correlations\n",
    "    sim = {}\n",
    "    for candidate in prefs:\n",
    "        if candidate == person:\n",
    "            continue\n",
    "        if similarity == '_simeuclid':\n",
    "            sim[candidate] = sim_euclid(prefs, person, candidate)\n",
    "        elif similarity == '_simpearson':\n",
    "            sim[candidate] = sim_pearson(prefs, person, candidate)\n",
    "        elif similarity == '_simrussel':\n",
    "            sim[candidate] = sim_RusselRao(prefs,person,candidate)\n",
    "        else:\n",
    "            print (\"no valid similarity\")\n",
    "\n",
    "    kSums = {}\n",
    "    unknownMedia = {}\n",
    "    for candidate in prefs:\n",
    "        #02 don't compare a person with itself\n",
    "        if candidate == person:\n",
    "            continue\n",
    "        #03 if the correlation is negative, the persons are too different\n",
    "        if sim[candidate] < 0:\n",
    "            continue\n",
    "        #04 for every media the candidate already knows\n",
    "        for media in prefs[candidate]:\n",
    "            #05 for every media the candidate did not know\n",
    "            if media not in prefs[person] or prefs[person][media] == 0:\n",
    "                #06 check if the not yet seen media is already in the unknownMedia list\n",
    "                #   if not, add it to unknownMedia and kSums with value 0\n",
    "                if media not in unknownMedia:\n",
    "                    unknownMedia[media] = 0\n",
    "                    kSums[media] = 0\n",
    "                #07 add the correlation of the candidate to the kSum of the current media\n",
    "                kSums[media] += sim[candidate]\n",
    "                #08 add the recommendation\n",
    "                unknownMedia[media] += sim[candidate] * prefs[candidate][media]\n",
    "\n",
    "    #09 divide the sum of the media by the kSum of the media\n",
    "    for media in unknownMedia:\n",
    "        unknownMedia[media] = unknownMedia[media]/kSums[media]\n",
    "\n",
    "\n",
    "    #10 sort dictionary into list by descending keys (recommendation score)\n",
    "    list = sorted(unknownMedia.items(), key=lambda t: t[1], reverse=True)\n",
    "\n",
    "    return list"
   ]
  },
  {
   "cell_type": "markdown",
   "metadata": {},
   "source": [
    "#### Berechnung der Empfehlungen für Toby mithilfe der oben implementierten Funktion *getRecommendations* auf Basis euklidischer Ähnlichkeitswerte"
   ]
  },
  {
   "cell_type": "code",
   "execution_count": 14,
   "metadata": {},
   "outputs": [
    {
     "name": "stdout",
     "output_type": "stream",
     "text": [
      "---------------------------------------- User based collaborative filtering -----------------------------------------\n",
      "Recommendations for Toby (euclidean similarity): \n",
      "[('The Night Listener', 3.4273481378103883), ('Lady in the Water', 2.7957370311640055), ('Just My Luck', 2.407392750287351)]\n",
      "---------------------------------------------------------------------------------------------------------------------\n"
     ]
    }
   ],
   "source": [
    "user = 'Toby'\n",
    "\n",
    "print '-'*40, 'User based collaborative filtering', '-'*41\n",
    "print 'Recommendations for %s (euclidean similarity): \\n' % (user), getRecommendations(critics, user, '_simeuclid')\n",
    "print '-'*117"
   ]
  },
  {
   "cell_type": "markdown",
   "metadata": {},
   "source": [
    "#### Berechnung der Empfehlungen für Toby mithilfe der oben implementierten Funktion *getRecommendations* auf Basis  der Pearsonähnlichkeit"
   ]
  },
  {
   "cell_type": "code",
   "execution_count": 15,
   "metadata": {},
   "outputs": [
    {
     "name": "stdout",
     "output_type": "stream",
     "text": [
      "---------------------------------------- User based collaborative filtering -----------------------------------------\n",
      "Recommendations for Toby (pearson similarity): \n",
      "[('The Night Listener', 3.347789526713101), ('Lady in the Water', 2.8325499182641622), ('Just My Luck', 2.5309807037655645)]\n",
      "---------------------------------------------------------------------------------------------------------------------\n"
     ]
    }
   ],
   "source": [
    "user = 'Toby'\n",
    "\n",
    "print '-'*40, 'User based collaborative filtering', '-'*41\n",
    "print 'Recommendations for %s (pearson similarity): \\n' % (user), getRecommendations(critics, user, '_simpearson')\n",
    "print '-'*117"
   ]
  },
  {
   "cell_type": "markdown",
   "metadata": {},
   "source": [
    "### Berechnung von Empfehlungen mit Item basiertem Collaborative Filtering\n",
    "In den vorigen Aufgaben wurden Ähnlichkeiten zwischen Personen bestimmt und für Produktempfehlungen benutzt (User basiertes Collaborative Filtering). Jetzt soll die Ähnlichkeit zwischen Produkten berechnet werden und auf der Basis dieser Produktähnlichkeit Empfehlungen berechnet werden (Item basiertes Collaborative Filtering).\n",
    "\n",
    "Dabei sollen die bereits implementierten Ähnlichkeitsfunktion *sim_euclid* und *sim_pearson* sowie die Ähnlichkeeits-Sortierfunktion *topMatches* unverändert eingesetzt werden.\n",
    "\n",
    "__Aufgabe:__\n",
    "\n",
    "1. Implementieren Sie eine Funktion, welche das Bewertungsdictionary *critics* derart transformiert, dass die Funktionen *sim_euclid*, *sim_pearson* und *topMatches* für das Item-basierte CF unverändert eingesetzt werden können. Die transformierte Matrix soll unter dem Namen *transCritics* abgespeichert werden.\n",
    "2. Schreiben Sie eine Funktion *calculateSimilarItems*, die aus der transformierten Matrix *transCritics* ein Dictionary berechnet, welches die Ähnlichkeit zwischen allen Filmen beschreibt. Die Keys des Dictionary sind die Filmnamen. Die Values sind geordnete Listen, welche die Funktion *topMatches* zurückgibt, wenn sie für die Filme (nicht für die User) aufgerufen wird. Dieses Dictionary wird an das aufrufende Programm zurück geben. \n",
    "3. Schreiben Sie eine Funktion *getRecommendedItems*, welche basierend auf dem im unten aufgeführten Beispiel dargestellten Verfahren unter Vorgabe der Bewertungsmatrix und der zu verwendenden Ähnlichkeitsfunktion Produktempfehlungen berechnet.\n",
    "4. Testen Sie die Funktion indem Sie die Empfehlungen für Toby berechnen und mit den Werten in der unten aufgeführten Tabelle vergleichen\n",
    "\n",
    "__Erläuterndes Beispiel:__\n",
    "\n",
    "_Toby_ hat die Filme *The Night Listener*, *Lady in the Water* und *Just My Luck* noch nicht gekauft. Für diese Filme soll für *Toby* eine Empfehlung berechnet werden. Gekauft und bewertet hat *Toby* die Filme *Snakes on a plane*, *Superman Returns* und *You and me and Dupree*. Diese bereits vorhandenen Filme bilden die erste Spalte der unten dargestellten Matrix. In der zweiten Spalte befinden sich _Toby's_ Bewertungen dieser Filme. Die Spalten 3,5 und 7 enthalten die Ähnlichkeitswerte (mit *calculateSimilarItems* unter Verwendung des normierten euklidischen Ähnlichkeitsmaßes berechnet) zwischen den drei von *Toby* noch nicht gekauften Filmen und den drei von _Toby_ bewerteten Filmen. Diese Ähnlichkeitswerte werden jeweils mit _Toby's_ Bewertungen multipliziert. Das Resultat dieser Multiplikation befindet sich in den Spalten 4,6 und 8. Der finale Empfehlungswert für die von _Toby_ noch nicht gekauften Filme wird berechnet in dem in den Spalten 4,6 und 8 zunächst die Summe über die Werte dieser Spalte in den drei oberen Zeilen berechnet wird und durch die Summe über die Werte der Spalten 3,5 und 7 geteilt wird. Im Fall, dass die *Pearson-Korrelation* zwischen den Filmen als Ähnlichkeitswert herangezogen wird, können negative Ähnlichkeitswerte auftreten. Dann soll in die Berechnung eines Empfehlungswert für Film A nur dann die Bewertung von Film B einfließen, wenn der Korrelationswert zwischen beiden $>0$ ist.  \n",
    "\n",
    "![Abbildung Calculate Itembased Recommendation](https://www.hdm-stuttgart.de/~maucher/ipnotebooks/DataMining/Bilder/recommenderFilmItemBased.PNG)"
   ]
  },
  {
   "cell_type": "markdown",
   "metadata": {},
   "source": [
    "#### Anmerkung\n",
    "\n",
    "Auch hier wird an erster Stelle der Liste der Name ausgegeben und an zweiter Stelle der Empfehlungswert. Dies ist dient der besseren Lesbarkeit.\n",
    "\n",
    "Der Nachfolgende Code ist in seine obigen Teilaufgaben eingeteilt."
   ]
  },
  {
   "cell_type": "markdown",
   "metadata": {},
   "source": [
    "#### Aufgabe 1\n",
    "\n",
    "##### Codebeschreibung\n",
    "\n",
    "Ziel: Ein neues verschachteltes Dictionary (movies), in die Keys die Filmtitel sind und die Werte Dictionariies mit den User-Bewertungspaaren zum jeweilgen Film.\n",
    "\n",
    "1. Iteration über alle Key-Value-Paare des Dictionary critics mit den Bewertungen jedes Users zu den Filmen.\n",
    "\n",
    "2. Iteration über alle Key-Value-Paare im verschachtelten Dictionary, das die Bewertungen zu jedem Film enthält.\n",
    "\n",
    "3. Wenn der aktuelle Film noch nicht im neuen Dictionary als Key existiert, lege ihn neu an.\n",
    "\n",
    "4. Schreibe in das innere Dictionary des jeweiligen Films den Namen des Users als Key und seine Bewertung als Wert."
   ]
  },
  {
   "cell_type": "code",
   "execution_count": 16,
   "metadata": {},
   "outputs": [
    {
     "name": "stdout",
     "output_type": "stream",
     "text": [
      "---------------------------------------------- transformation Critics -----------------------------------------------\n",
      "{'Lady in the Water': {'Lisa Rose': 2.5, 'Jack Matthews': 3.0, 'Michael Phillips': 2.5, 'Gene Seymour': 3.0, 'Mick LaSalle': 3.0}, 'Snakes on a Plane': {'Jack Matthews': 4.0, 'Mick LaSalle': 4.0, 'Claudia Puig': 3.5, 'Lisa Rose': 3.5, 'Toby': 4.5, 'Gene Seymour': 3.5, 'Michael Phillips': 3.0}, 'Just My Luck': {'Claudia Puig': 3.0, 'Lisa Rose': 3.0, 'Gene Seymour': 1.5, 'Mick LaSalle': 2.0}, 'Superman Returns': {'Jack Matthews': 5.0, 'Mick LaSalle': 3.0, 'Claudia Puig': 4.0, 'Lisa Rose': 3.5, 'Toby': 4.0, 'Gene Seymour': 5.0, 'Michael Phillips': 3.5}, 'The Night Listener': {'Jack Matthews': 3.0, 'Mick LaSalle': 3.0, 'Claudia Puig': 4.5, 'Lisa Rose': 3.0, 'Gene Seymour': 3.0, 'Michael Phillips': 4.0}, 'You, Me and Dupree': {'Jack Matthews': 3.5, 'Mick LaSalle': 2.0, 'Claudia Puig': 2.5, 'Lisa Rose': 2.5, 'Toby': 1.0, 'Gene Seymour': 3.5}}\n",
      "---------------------------------------------------------------------------------------------------------------------\n"
     ]
    }
   ],
   "source": [
    "def transCritics(critics):\n",
    "    movies = {}\n",
    "\n",
    "    #1\n",
    "    for critics, details in critics.items():\n",
    "        #2\n",
    "        for title, rating in details.items():\n",
    "            #3\n",
    "            if title not in movies:\n",
    "                movies[title] = {}\n",
    "            #4\n",
    "            movies[title][critics] = rating\n",
    "\n",
    "    return movies\n",
    "\n",
    "print '-'*46,'transformation Critics','-'*47\n",
    "print transCritics(critics)\n",
    "print '-'*117"
   ]
  },
  {
   "cell_type": "markdown",
   "metadata": {},
   "source": [
    "#### Aufgabe 2\n",
    "\n",
    "##### Codebeschreibung\n",
    "\n",
    "In transformierter Matrix wird über jeden Filmtitel iteriert und mit der Funktion *topMatches* alle Ähnlichkeitswerte berechnet und in einem Dictionary (simItems) gespeichert."
   ]
  },
  {
   "cell_type": "code",
   "execution_count": 17,
   "metadata": {},
   "outputs": [
    {
     "name": "stdout",
     "output_type": "stream",
     "text": [
      "----------------------------------------- Similarities of calculated items ------------------------------------------\n",
      "{'Lady in the Water': [('Snakes on a Plane', 0.7637626158259734), ('Superman Returns', 0.48795003647426655), ('You, Me and Dupree', 0.3333333333333333), ('The Night Listener', -0.6123724356957947), ('Just My Luck', -0.9449111825230683)], 'Snakes on a Plane': [('Lady in the Water', 0.7637626158259734), ('Superman Returns', 0.11180339887498948), ('Just My Luck', -0.3333333333333333), ('The Night Listener', -0.5663521139548542), ('You, Me and Dupree', -0.6454972243679029)], 'Just My Luck': [('The Night Listener', 0.5555555555555556), ('Snakes on a Plane', -0.3333333333333333), ('Superman Returns', -0.422890031611031), ('You, Me and Dupree', -0.48566186425718266), ('Lady in the Water', -0.9449111825230683)], 'Superman Returns': [('You, Me and Dupree', 0.657951694959769), ('Lady in the Water', 0.48795003647426655), ('Snakes on a Plane', 0.11180339887498948), ('The Night Listener', -0.17984719479905417), ('Just My Luck', -0.422890031611031)], 'You, Me and Dupree': [('Superman Returns', 0.657951694959769), ('Lady in the Water', 0.3333333333333333), ('The Night Listener', -0.25000000000000006), ('Just My Luck', -0.48566186425718266), ('Snakes on a Plane', -0.6454972243679029)], 'The Night Listener': [('Just My Luck', 0.5555555555555556), ('Superman Returns', -0.1798471947990542), ('You, Me and Dupree', -0.25000000000000006), ('Snakes on a Plane', -0.5663521139548542), ('Lady in the Water', -0.6123724356957947)]}\n",
      "---------------------------------------------------------------------------------------------------------------------\n"
     ]
    }
   ],
   "source": [
    "def  calculateSimilarItems(prefs, similarity):\n",
    "    simItems = {}\n",
    "\n",
    "    for title in prefs.keys():\n",
    "        simItems[title] = topMatches(prefs,title,similarity)\n",
    "\n",
    "    return simItems\n",
    "\n",
    "print '-'*41,'Similarities of calculated items','-'*42\n",
    "print calculateSimilarItems(transCritics(critics), '_simpearson')\n",
    "print '-'*117"
   ]
  },
  {
   "cell_type": "markdown",
   "metadata": {},
   "source": [
    "#### Aufgabe 3\n",
    "\n",
    "##### Codebeschreibung\n",
    "\n",
    "Berechnung Filmempfehlung\n",
    "Es wird eine Liste erstellt, die alle Filme enthält, die der User, dem die Empfehlung gemacht werden soll, noch nicht gesehen/bewertet hat (notboughtMovies). Anschließend wird für jeden Film in dieser Liste der Empfehlungswert wie folgt berechnet:\n",
    "> Für jeden vom User gekauften Film wird die Ähnlichkeit zum nicht gekauften Film mit dem angegebenen Ähnlichkeitsmaß berechnet. Diese Ähnlichkeit wird anschließend mit der Bewertung des Films durch den User multipliziert und zur Empfehlungswert addiert. Gleichzeitig werden die Ähnlichkeitswerte des nicht gekauften Films zu allen gekauften Filmen aufsummiert. Am Ende wird der Empfehlungswert durch eine Divison durch die Summe der Ähnlichkeitswerte normiert.\n",
    "\n",
    "Die normierten Empfehlungswerte werden in ein Dictionary zu den zugehörigen Filmtiteln geschrieben. Zurückgegeben wird eine absteigend sortierte Liste."
   ]
  },
  {
   "cell_type": "code",
   "execution_count": 18,
   "metadata": {},
   "outputs": [],
   "source": [
    "def getRecommendedItems(prefs,person,similarity):\n",
    "    simItem = calculateSimilarItems(prefs,similarity)\n",
    "    result = []\n",
    "\n",
    "    notboughtMovies = []\n",
    "    for movie in simItem.keys():\n",
    "        if movie not in critics[person]:\n",
    "            notboughtMovies.append(movie)\n",
    "\n",
    "    recommandations = {}\n",
    "    for notboughtMovie in notboughtMovies:\n",
    "        sumRecommendation = 0\n",
    "        sumSimilarities = 0\n",
    "        for purchasedMovie, rating in critics[person].items():\n",
    "            if similarity == '_simeuclid':\n",
    "                simi = sim_euclid(prefs, purchasedMovie, notboughtMovie)\n",
    "                sumRecommendation += simi * rating\n",
    "                sumSimilarities += simi\n",
    "            elif similarity == '_simpearson':\n",
    "                simi = sim_pearson(prefs, purchasedMovie, notboughtMovie)\n",
    "                sumRecommendation += simi * rating\n",
    "                sumSimilarities += simi\n",
    "        #3\n",
    "        recommandations[notboughtMovie] = (sumRecommendation / \n",
    "                                           sumSimilarities).round(2) if sumSimilarities != 0 else 0\n",
    "\n",
    "        list = sorted(recommandations.items(), key=lambda t: t[1], reverse=True)\n",
    "\n",
    "    return list"
   ]
  },
  {
   "cell_type": "markdown",
   "metadata": {},
   "source": [
    "#### Aufgabe 4\n",
    "\n",
    "##### Codebeschreibung\n",
    "Transformieren der Ausgangsmatrix. <br>\n",
    "Item-Based Empfehlung für Toby."
   ]
  },
  {
   "cell_type": "code",
   "execution_count": 19,
   "metadata": {},
   "outputs": [
    {
     "name": "stdout",
     "output_type": "stream",
     "text": [
      "---------------------------------------- Item based collaborative filtering -----------------------------------------\n",
      "Recommendations for Toby (euclidean similarity): \n",
      "[('The Night Listener', 3.2), ('Lady in the Water', 3.08), ('Just My Luck', 3.04)]\n",
      "Recommendations for Toby (pearson similarity): \n",
      "[('Lady in the Water', 3.61), ('The Night Listener', 3.53), ('Just My Luck', 2.96)]\n",
      "---------------------------------------------------------------------------------------------------------------------\n"
     ]
    }
   ],
   "source": [
    "tc = transCritics(critics)\n",
    "person = 'Toby'\n",
    "\n",
    "print '-'*40, 'Item based collaborative filtering', '-'*41\n",
    "print 'Recommendations for %s (euclidean similarity): \\n' % (person), getRecommendedItems(tc, person, '_simeuclid')\n",
    "print 'Recommendations for %s (pearson similarity): \\n' % (person), getRecommendedItems(tc, person, '_simpearson')\n",
    "print '-'*117"
   ]
  },
  {
   "cell_type": "markdown",
   "metadata": {},
   "source": [
    "## last.fm Musikempfehlungen\n",
    "Kopieren Sie die Datei _pylast.py_ vom _Resources_-Ordner im _DataMining_-Ordner des Skripteservers in das Verzeichnis dieses _IPython Notebooks_. In dieser Datei sind alle Zugriffsfunktionen auf _last.fm_ Dienste implementiert. Die notwendigen Anmelde- und Authentifizierungsdaten für den User _pythonlab_ sind ebenfalls schon in diesem Modul eingetragen.\n",
    "\n",
    "__Aufgabe:__\n",
    "\n",
    "1. Stellen Sie durch Aufruf der Funktion *network=pylast.get_lastfm_network()* eine Verbindung zu *last.fm* her. Beim Aufruf der Funktion wird die Anmeldung und Authentifizierung durchgeführt. Die Funktion gibt ein Objekt der Klasse *Network* zurück. Über dieses Objekt können Methoden, wie\n",
    "\n",
    "    * *get_artist(\"kuenstlerName\")* (liefert Objekt der Klasse _Artist_)\n",
    "    * *get_album(\"albumName\")* (liefert Objekt der Klasse _Album_)\n",
    "    * *get_track(\"songName\")* (liefert Objekt der Klasse _Track_)\n",
    "    * *get_user(\"userName\"):* (liefert Objekt der Klass_Tag_)\n",
    "    * usw.\n",
    "    \n",
    "      aufgerufen werden. Die Menge aller verfügbaren Klassen und deren Attribute und Methoden können dem Modul _pylast.py_ entnommen werden.\n",
    "\n",
    "1. Rufen Sie über das oben instanziierte _Network_-Objekt die Methode *get_artist(\"BandIhrerWahl\")* auf.\n",
    "2. Rufen Sie über das oben instanziierte _Artist_-Objekt die Methode *topfans=get_top_fans(10)* auf. Die Methode gibt eine Liste von _User_-Objekt/Gewichtung-Paaren zurück. Die Gewichtungen von Objekten werden in diesem Versuch nicht benötigt. Legen Sie deshalb mit _group=[a.item for a in topfan]_ eine Liste an, die nur noch die User Objekte enthält. **Wichtige Anmerkung:** Seit August 2015 gibt es Probleme mit der lastFM API Methode *get_top_fans()* (siehe auch: [pylast issues](https://github.com/pylast/pylast/issues/155s)). Falls am Versuchstermin der Fehler noch nicht behoben ist, können Sie den unten stehenden Code benutzen. Darin wird versucht auf die API-Methode zuzugreifen. Falls das nicht möglich ist, wird eine vordefinierte Liste von Usern angewandt. Diese Liste repräsentiert die *Top Fans* der Band *Slipknot* im Frühjahr 2015. \n",
    "3. Implementieren Sie eine Funktion *createLastfmUserDict()*. Dieser Funktion soll, die oben angelegte Liste von _User_-Objekten _group_ übergeben werden. Für jeden User in *group* sollen die 20 beliebtesten Bands mit der Methode *topartists=get_top_artists()[0:20]* bestimmt werden. Die Methode gibt eine Liste von *Artist*-Objekt/Gewichtung-Paaren zurück. Die Gewichtungen von Objekten werden in diesem Versuch nicht benötigt. Auf das *i.te* *Artist*-Objekt selbst kann mit *topartists[i].item* zugegriffen werden. Die Menge aller Bands, die auf diese Weise gesammelt werden, wird im folgenden mit _AllBands_ bezeichnet. D.h. in *AllBands* befinden sich alle Bands, die für mindestens einen User in *group* zu den Top-20 gehören. Nun soll ein verschachteltes Dictionary mit Namen *userDict* wie folgt angelegt werden:\n",
    "\n",
    "    * Die Keys sind die Namen der _User_-Objekte in _group_. Auf den Namen eines Objekts kann mit *get_name()* zugegriffen werden.\n",
    "    * Die Values sind selbst wieder Dictionaries, deren Keys die Namen der Bands in *AllBands* sind. Achten Sie auch hier darauf, dass Sie nicht das *Artist*-Objekt selbst, sondern dessen Namen als Key verwenden. \n",
    "    * Für den User *a* und die Band *b* ist der Value *userDict[a][b]= 1*, falls *b* zu den Top-20 des Users *a* gehört. Andernfalls ist *userDict[a][b]= 0*. \n",
    "    \n",
    "    Das derart angelegte Dictionary soll von der Funktion zurückgegeben werden. \n",
    "4. Wählen Sie jetzt einen beliebigen User aus *group*. Bestimmen Sie zu diesem User die ähnlichsten User in *group* durch Anwendung der im ersten Teilversuch implementierten Funktion *topMatches()*. Der Funktion wird das angelegte *userDict* und der Name des gewählten Users übergeben. Als Ähnlichkeitsmaß soll die euklidische Metrik angewandt werden.\n",
    "5. Bestimmen Sie dann für den gewählten User Band-Empfehlungen durch Anwendung der im ersten Teilversuch implementierten Funktion *getRecommendations()*. Der Funktion wird das angelegte *userDict* und der Name des gewählten Users übergeben. Als Ähnlichkeitsmaß soll die euklidische Metrik, danach die Russel_Rao Metrik, angewandt werden.     \n",
    "6. Diskutieren Sie das Ergebnis"
   ]
  },
  {
   "cell_type": "code",
   "execution_count": 20,
   "metadata": {},
   "outputs": [
    {
     "name": "stdout",
     "output_type": "stream",
     "text": [
      "Most similar (as calculated by lastFM) for artist:  Slipknot\n",
      "1.000 \t Stone Sour\n",
      "0.697 \t Korn\n",
      "0.498 \t Mudvayne\n",
      "0.449 \t System of a Down\n",
      "0.415 \t Limp Bizkit\n",
      "\n",
      "lastFM API Error for method get_top_fans\n",
      "Apply predefined group of users\n"
     ]
    }
   ],
   "source": [
    "import pylast\n",
    "nw=pylast.get_lastfm_network(api_key = \"993a5bd9d79a98a53677570368d55acd\",\n",
    "                             api_secret = \"9b8de0b57903ac007cdd8ec9003b341e\",username = \"pythonlab\")\n",
    "band='Slipknot'\n",
    "art1 = nw.get_artist(band)\n",
    "print \"Most similar (as calculated by lastFM) for artist: \",band\n",
    "for it in art1.get_similar(5):\n",
    "    print \"%3.3f \\t %s\"%(it.match, it.item)\n",
    "try:\n",
    "    topfan = art1.get_top_fans()\n",
    "    group = [a.item for a in topfan]\n",
    "except:\n",
    "    print \"\\nlastFM API Error for method get_top_fans\\nApply predefined group of users\"\n",
    "    usernames=['BrunoJoS','DPREBOYE','MPistol40','NemoNightfall','SkyRif','Wags1382',\n",
    "               'Znapsen','cortapsyco','emill_67','sattuviitana']\n",
    "    group=[]\n",
    "    for u in usernames:\n",
    "        u1 = nw.get_user(u)\n",
    "        group.append(u1)"
   ]
  },
  {
   "cell_type": "markdown",
   "metadata": {},
   "source": [
    "#### Anmerkung\n",
    "\n",
    "Wie oben beschrieben, funktioniert der Aufruf der lastFM Methode .get_top_fans nicht mehr, so das der unten stehende Code nur als Pseudocode dient. Ebenso wird daher die vordefinierte Liste der User, für das weitere vorgehen genutzt.\n",
    "\n",
    "#### Aufgabe 1 - 3"
   ]
  },
  {
   "cell_type": "code",
   "execution_count": 21,
   "metadata": {},
   "outputs": [],
   "source": [
    "import pylast as pl\n",
    "\n",
    "network = pl.get_lastfm_network()\n",
    "\n",
    "artist = network.get_artist('Drake')\n",
    "\n",
    "# topfans = artist.get_top_fans(10)\n",
    "\n",
    "# print topfans"
   ]
  },
  {
   "cell_type": "markdown",
   "metadata": {},
   "source": [
    "#### Aufgabe 4\n",
    "\n",
    "##### Codebeschreibung\n",
    "\n",
    "1. Für jeden User werden die ersten X favorisierten Artists ermittelt (X wird durch Übergabeparameter *maxArtists* festgelegt).\n",
    "\n",
    "2. Jeder lesbare Artist (nur lateinische Schriftzeichen) wird zum einen in die topBandList des Users geschrieben und    zum anderen einem Set hinzugefügt (allBands), das alle Artists enthält, die einer der User unter seinen Favoriten hatte.\n",
    "\n",
    "3. Anschließend wird nochmal über jeden User iteriert und für jeden Artist des allBands-Set geprüft, ob er vom User favorisiert ist. Diese Information wird in einer User-Artist-Matrix gespeichert, in der nur 0 (nicht vom User favorisiert) oder 1 (vom User favorisiert) vorkommen.\n",
    "Diese Matrix wird von der Funktion zum Schluss zurückgegeben."
   ]
  },
  {
   "cell_type": "code",
   "execution_count": 22,
   "metadata": {},
   "outputs": [
    {
     "name": "stdout",
     "output_type": "stream",
     "text": [
      "not able to write 植松伸夫 band into set\n"
     ]
    }
   ],
   "source": [
    "def createLastfmUserDict(group, maxArtist):\n",
    "    allBands = set()\n",
    "    topUserBands = {}\n",
    "    userDict = {}\n",
    "\n",
    "    #1\n",
    "    for user in group:\n",
    "        topartist = user.get_top_artists()[0:maxArtist]\n",
    "        topBandList = []\n",
    "        for i in range(0, maxArtist):\n",
    "            #2\n",
    "            try:\n",
    "                allBands.add(str(topartist[i].item.name))\n",
    "                topBandList.append(str(topartist[i].item.name))\n",
    "            except:\n",
    "                print \"not able to write\", topartist[i].item.name, \"band into set\"\n",
    "        topUserBands[user] = topBandList\n",
    "    #3\n",
    "    for user in group:\n",
    "        bandDict = {}\n",
    "        for band in allBands:\n",
    "            if band in topUserBands[user]:\n",
    "                bandDict[band] = 1\n",
    "            else:\n",
    "                bandDict[band] = 0\n",
    "        userString = str(user)\n",
    "        userDict[userString] = bandDict\n",
    "\n",
    "    return userDict\n",
    "\n",
    "#1\n",
    "maxArtist = 20\n",
    "userDict = createLastfmUserDict(group, maxArtist)"
   ]
  },
  {
   "cell_type": "markdown",
   "metadata": {},
   "source": [
    "#### Aufgabe 5\n",
    "\n",
    "Wählen eines Users und Anzeigen der Ähnlichsten User."
   ]
  },
  {
   "cell_type": "code",
   "execution_count": 23,
   "metadata": {},
   "outputs": [
    {
     "name": "stdout",
     "output_type": "stream",
     "text": [
      "------------------------------------------------------ SkyRif ------------------------------------------------------ \n",
      "\n",
      "---------------------------------------------------- TOP MATCHES ---------------------------------------------------\n",
      "----------------------------------------------- Euclidean similarity ----------------------------------------------- \n",
      "[('MPistol40', 0.9657045104091802), ('NemoNightfall', 0.9645434752296831), ('sattuviitana', 0.9645434752296831), ('Znapsen', 0.9634231907991175), ('BrunoJoS', 0.9634231907991175), ('emill_67', 0.9634231907991175), ('cortapsyco', 0.9618110670539636), ('DPREBOYE', 0.9612903225806452), ('Wags1382', 0.9602717282659217)]\n",
      "---------------------------------------------------------------------------------------------------------------------\n"
     ]
    }
   ],
   "source": [
    "user = 'SkyRif'\n",
    "\n",
    "d = (117 - user.__len__() -2)/2\n",
    "\n",
    "print '-'*d,user,'-'*d,'\\n'\n",
    "print '-'*52,'TOP MATCHES','-'*51\n",
    "print '-'*47,'Euclidean similarity','-'*47,'\\n', topMatches(userDict, user,'_simeuclid')\n",
    "print '-'*117"
   ]
  },
  {
   "cell_type": "markdown",
   "metadata": {},
   "source": [
    "#### Aufgabe 6\n",
    "Berechnung der Empfehlungen mithilfe der bereits implementierten Funktion *getRecommendations* auf Basis der euklidischen Ähnlichkeit und der Russel-Rao-Metrik."
   ]
  },
  {
   "cell_type": "code",
   "execution_count": 24,
   "metadata": {},
   "outputs": [
    {
     "name": "stdout",
     "output_type": "stream",
     "text": [
      "-------------------------------------------------- RECOMMENDATIONS --------------------------------------------------\n",
      "----------------------------------------------- Euclidean similarity ------------------------------------------------ \n",
      "[('Five Finger Death Punch', 0.44482466669470455), ('Rammstein', 0.33355388140531134), ('In Flames', 0.22267550886097784), ('Limp Bizkit', 0.22254627162954374), ('Three Days Grace', 0.22241233334735228), ('30 Seconds to Mars', 0.22241233334735228), ('Avenged Sevenfold', 0.22241233334735228), ('Pantera', 0.22241233334735228), ('Pendulum', 0.22236029527937015), ('Muse', 0.22228309611591818), ('Pink Floyd', 0.22228309611591818), ('Foo Fighters', 0.22228309611591818), ('Arctic Monkeys', 0.22203704611642833), ('Coheed and Cambria', 0.22173356361728241), ('Team Sleep', 0.11140472357158465), ('Soilwork', 0.11140472357158465), ('A Perfect Circle', 0.11140472357158465), ('Soulfly', 0.11140472357158465), ('36 Crazyfists', 0.11140472357158465), ('Dmitri Shostakovich', 0.11140472357158465), ('Scar Symmetry', 0.11140472357158465), ('Dark Tranquillity', 0.11140472357158465), ('Nine Inch Nails', 0.11140472357158465), ('Deftones', 0.11140472357158465), ('Tool', 0.11140472357158465), ('Trivium', 0.11127078528939319), ('Leevi and the Leavings', 0.11127078528939319), ('Breaking Benjamin', 0.11127078528939319), ('Bullet for My Valentine', 0.11127078528939319), ('Klamydia', 0.11127078528939319), ('Lindemann', 0.11127078528939319), ('Nightwish', 0.11127078528939319), ('Ben Howard', 0.11127078528939319), ('Alexisonfire', 0.11127078528939319), ('Amorphis', 0.11127078528939319), ('Stam1na', 0.11127078528939319), ('Sick Puppies', 0.11127078528939319), ('Queen', 0.11127078528939319), ('Oh, Sleeper', 0.11127078528939319), ('All Time Low', 0.11127078528939319), ('Children of Bodom', 0.11127078528939319), ('Sonata Arctica', 0.11127078528939319), ('Bring Me the Horizon', 0.11127078528939319), ('Memphis May Fire', 0.11127078528939319), ('Billy Talent', 0.11127078528939319), ('Mumford & Sons', 0.11127078528939319), ('Volbeat', 0.11127078528939319), ('White Zombie', 0.11114154805795909), ('Queens of the Stone Age', 0.11114154805795909), ('Seether', 0.11114154805795909), ('Freestyle', 0.11114154805795909), ('Green Day', 0.11114154805795909), ('Electric Light Orchestra', 0.11114154805795909), ('Iron Maiden', 0.11114154805795909), ('Pitty', 0.11114154805795909), ('Black Label Society', 0.11114154805795909), ('Gyllene Tider', 0.11114154805795909), ('Radiohead', 0.11114154805795909), ('Magnus Uggla', 0.11114154805795909), ('Shinedown', 0.11114154805795909), ('deadmau5', 0.11114154805795909), ('P.D.P.', 0.11114154805795909), ('Disturbed', 0.11114154805795909), ('Machine Head', 0.11114154805795909), ('Boston', 0.11114154805795909), ('Epic Rap Battles Of History', 0.11114154805795909), ('Rob Zombie', 0.11114154805795909), ('Ween', 0.11114154805795909), ('The Killers', 0.11114154805795909), ('Mustasch', 0.11114154805795909), ('Theory of a Deadman', 0.11114154805795909), ('M.I.A.', 0.11114154805795909), ('Madonna', 0.11114154805795909), ('Evanescence', 0.11114154805795909), ('Thom Yorke', 0.11114154805795909), ('Coldplay', 0.11114154805795909), ('Dope', 0.11114154805795909), ('Sum 41', 0.11114154805795909), ('Godsmack', 0.11114154805795909), ('Flo Rida', 0.1109555717077855), ('Killswitch Engage', 0.1109555717077855), ('Halestorm', 0.1109555717077855), ('Krewella', 0.1109555717077855), ('Katy Perry', 0.1109555717077855), ('Lacuna Coil', 0.1109555717077855), ('Ke$ha', 0.1109555717077855), ('Panic! at the Disco', 0.1109555717077855), ('Demon Hunter', 0.1109555717077855), ('Dimmu Borgir', 0.1109555717077855), ('Black Veil Brides', 0.1109555717077855), ('Marina & the Diamonds', 0.1109555717077855), ('Calvin Harris', 0.1109555717077855), ('Cradle of Filth', 0.1109555717077855), ('Becoming the Archetype', 0.1109555717077855), ('Damien Rice', 0.11089549805846922), ('Nirvana', 0.11089549805846922), ('The White Stripes', 0.11089549805846922), ('Mogwai', 0.11089549805846922), ('The Band', 0.11089549805846922), ('Beach House', 0.11089549805846922), ('James Blake', 0.11089549805846922), ('Hozier', 0.11089549805846922), ('Die Antwoord', 0.11089549805846922), ('Wu-Tang Clan', 0.11089549805846922), ('Daughter', 0.11089549805846922), ('Warpaint', 0.11089549805846922), ('Atoms for Peace', 0.11089549805846922), ('Dr. Dre', 0.11089549805846922), ('N.W.A', 0.11089549805846922), ('DIR EN GREY', 0.11089549805846922), ('Cat Power', 0.11089549805846922), ('Motion City Soundtrack', 0.11077799190949693), ('The Wonder Years', 0.11077799190949693), ('Fall Out Boy', 0.11077799190949693), ('blink-182', 0.11077799190949693), ('Bayside', 0.11077799190949693), ('My Chemical Romance', 0.11077799190949693), ('AFI', 0.11077799190949693), ('New Found Glory', 0.11077799190949693), ('Evergreen Terrace', 0.11077799190949693), ('Energy', 0.11077799190949693), ('Cruel Hand', 0.11077799190949693), ('The Dear Hunter', 0.11077799190949693), ('Four Year Strong', 0.11077799190949693), ('Parkway Drive', 0.11077799190949693), ('Gallows', 0.11077799190949693), ('Saosin', 0.11077799190949693), ('Misfits', 0.11077799190949693), ('Circa Survive', 0.11077799190949693)] \b\n",
      "----------------------------------------------- Russel_Rao similarity ----------------------------------------------- \n",
      "[('Five Finger Death Punch', 0.5454545454545455), ('Rammstein', 0.393939393939394), ('In Flames', 0.33333333333333337), ('Limp Bizkit', 0.30303030303030304), ('Three Days Grace', 0.2727272727272727), ('30 Seconds to Mars', 0.2727272727272727), ('Avenged Sevenfold', 0.2727272727272727), ('Pantera', 0.2727272727272727), ('Pendulum', 0.24242424242424243), ('Muse', 0.24242424242424243), ('Pink Floyd', 0.24242424242424243), ('Foo Fighters', 0.24242424242424243), ('Team Sleep', 0.18181818181818182), ('Arctic Monkeys', 0.18181818181818182), ('Soilwork', 0.18181818181818182), ('A Perfect Circle', 0.18181818181818182), ('Soulfly', 0.18181818181818182), ('36 Crazyfists', 0.18181818181818182), ('Dmitri Shostakovich', 0.18181818181818182), ('Scar Symmetry', 0.18181818181818182), ('Dark Tranquillity', 0.18181818181818182), ('Nine Inch Nails', 0.18181818181818182), ('Deftones', 0.18181818181818182), ('Tool', 0.18181818181818182), ('Trivium', 0.15151515151515152), ('Leevi and the Leavings', 0.15151515151515152), ('Breaking Benjamin', 0.15151515151515152), ('Bullet for My Valentine', 0.15151515151515152), ('Klamydia', 0.15151515151515152), ('Lindemann', 0.15151515151515152), ('Nightwish', 0.15151515151515152), ('Ben Howard', 0.15151515151515152), ('Alexisonfire', 0.15151515151515152), ('Amorphis', 0.15151515151515152), ('Stam1na', 0.15151515151515152), ('Sick Puppies', 0.15151515151515152), ('Queen', 0.15151515151515152), ('Oh, Sleeper', 0.15151515151515152), ('All Time Low', 0.15151515151515152), ('Children of Bodom', 0.15151515151515152), ('Sonata Arctica', 0.15151515151515152), ('Bring Me the Horizon', 0.15151515151515152), ('Memphis May Fire', 0.15151515151515152), ('Billy Talent', 0.15151515151515152), ('Mumford & Sons', 0.15151515151515152), ('Volbeat', 0.15151515151515152), ('White Zombie', 0.12121212121212122), ('Queens of the Stone Age', 0.12121212121212122), ('Seether', 0.12121212121212122), ('Freestyle', 0.12121212121212122), ('Green Day', 0.12121212121212122), ('Electric Light Orchestra', 0.12121212121212122), ('Iron Maiden', 0.12121212121212122), ('Pitty', 0.12121212121212122), ('Black Label Society', 0.12121212121212122), ('Gyllene Tider', 0.12121212121212122), ('Radiohead', 0.12121212121212122), ('Magnus Uggla', 0.12121212121212122), ('Shinedown', 0.12121212121212122), ('deadmau5', 0.12121212121212122), ('P.D.P.', 0.12121212121212122), ('Disturbed', 0.12121212121212122), ('Machine Head', 0.12121212121212122), ('Boston', 0.12121212121212122), ('Epic Rap Battles Of History', 0.12121212121212122), ('Rob Zombie', 0.12121212121212122), ('Ween', 0.12121212121212122), ('The Killers', 0.12121212121212122), ('Mustasch', 0.12121212121212122), ('Theory of a Deadman', 0.12121212121212122), ('M.I.A.', 0.12121212121212122), ('Madonna', 0.12121212121212122), ('Evanescence', 0.12121212121212122), ('Thom Yorke', 0.12121212121212122), ('Coldplay', 0.12121212121212122), ('Dope', 0.12121212121212122), ('Sum 41', 0.12121212121212122), ('Godsmack', 0.12121212121212122), ('Coheed and Cambria', 0.09090909090909091), ('Flo Rida', 0.06060606060606061), ('Killswitch Engage', 0.06060606060606061), ('Damien Rice', 0.06060606060606061), ('Halestorm', 0.06060606060606061), ('Nirvana', 0.06060606060606061), ('Krewella', 0.06060606060606061), ('Katy Perry', 0.06060606060606061), ('The White Stripes', 0.06060606060606061), ('Mogwai', 0.06060606060606061), ('Lacuna Coil', 0.06060606060606061), ('The Band', 0.06060606060606061), ('Beach House', 0.06060606060606061), ('James Blake', 0.06060606060606061), ('Ke$ha', 0.06060606060606061), ('Panic! at the Disco', 0.06060606060606061), ('Hozier', 0.06060606060606061), ('Die Antwoord', 0.06060606060606061), ('Demon Hunter', 0.06060606060606061), ('Wu-Tang Clan', 0.06060606060606061), ('Daughter', 0.06060606060606061), ('Dimmu Borgir', 0.06060606060606061), ('Warpaint', 0.06060606060606061), ('Black Veil Brides', 0.06060606060606061), ('Atoms for Peace', 0.06060606060606061), ('Dr. Dre', 0.06060606060606061), ('Marina & the Diamonds', 0.06060606060606061), ('Calvin Harris', 0.06060606060606061), ('N.W.A', 0.06060606060606061), ('Cradle of Filth', 0.06060606060606061), ('Becoming the Archetype', 0.06060606060606061), ('DIR EN GREY', 0.06060606060606061), ('Cat Power', 0.06060606060606061), ('Motion City Soundtrack', 0.030303030303030304), ('The Wonder Years', 0.030303030303030304), ('Fall Out Boy', 0.030303030303030304), ('blink-182', 0.030303030303030304), ('Bayside', 0.030303030303030304), ('My Chemical Romance', 0.030303030303030304), ('AFI', 0.030303030303030304), ('New Found Glory', 0.030303030303030304), ('Evergreen Terrace', 0.030303030303030304), ('Energy', 0.030303030303030304), ('Cruel Hand', 0.030303030303030304), ('The Dear Hunter', 0.030303030303030304), ('Four Year Strong', 0.030303030303030304), ('Parkway Drive', 0.030303030303030304), ('Gallows', 0.030303030303030304), ('Saosin', 0.030303030303030304), ('Misfits', 0.030303030303030304), ('Circa Survive', 0.030303030303030304)]\n",
      "---------------------------------------------------------------------------------------------------------------------\n"
     ]
    }
   ],
   "source": [
    "print '-'*50,'RECOMMENDATIONS','-'*50\n",
    "print '-'*47,'Euclidean similarity','-'*48,'\\n', getRecommendations(userDict, user, '_simeuclid'), '\\b'\n",
    "print '-'*47,'Russel_Rao similarity','-'*47,'\\n', getRecommendations(userDict, user, '_simrussel')\n",
    "print '-'*117"
   ]
  },
  {
   "cell_type": "markdown",
   "metadata": {},
   "source": [
    "#### Aufgabe 7\n",
    "\n",
    "Beide Metriken ergeben ähnliche Empfehlungen. Wenn gesichert ist, dass zwei User definitiv gleiche Bands hören, ist die Verwendung der Russel-Rao-Metrik möglich. Da die Russel-Rao-Metrik für die Berechnung der Ähnlichkeit nur Auftreten von gemeinsamen nicht-Null Werten zählt, kann es passieren, dass bei kleinen Datenmengen mit geringen Korrelationen viele User als maximal Unähnlich angesehen werden und somit bei der Berechnung der Empfehlungen alle Werte mit 0 gewichtet werden und kein aussagekräftiges Ergebnis geliefert werden kann *(siehe weiterer Test, unten folgend)*. Es ist allgemein auch fraglich, wie aussagekräftig das Ergebnis ist, da wir nur die Top-20 Artists von zehn User für die Berechnung der Empfehlung verwenden. Alle diese User haben als gemeinsamme Band nur Slipknot. Dem gewählten User wird die Band *'Five Finger Death Punch'* empfohlen. Das heißt, dass diese Band die Band ist, die von den meisten der anderen neun anderen User gehört wird, aber nicht von unserem gewählten User selbst. \n",
    "\n",
    "Bei einem Test, bei dem wir zwei zufällige lastFM-Usernames (*joi* & *Larvi*) aus dem Internet herausgesucht, der Usergruppe hinzugefügt und die Berechnungen für einen dieser User durchgeführt haben, konnten wir feststellen, dass diesem User Slipknot empfohlen wird, da zehn von elf andere User Slipknot unter ihren Top-20 Bands haben. Der Code ist in der folgenden Zelle zu finden.\n",
    "Die Empfehlungen, die bei der Verwendung der Russel Rao Metrik herauskommen, sehen so aus, da alle User bis auf 'BrunoJoS' keine Ähnlichkeit zum gewählten User aufweisen (unter TOP MATCHES - Russel Rao Similarity zu sehen). Deshalb werden bei der Berechnung der Empfehlungen die Bands dieser User alle mit 0 gewichtet. Somit entsprichen die Empfehlungen für den gewählten User nur den 19 Bands, die BrunoJoS unter seinen favorisierten 20 Artists hat, aber nicht unser gewählte User. Die Schnittmenge, die zu einer Russel-Rao-Ähnlichkeit von > 0 geführt hat, entspricht somit genau einer Band, die BrunoJoS und unser gewählte User beide favorisieren. Man kann davon ausgehen, wenn mehr Top Artists betrachtet werden, führt das zu einer besseren Performance der Russel-Rao-Metrik."
   ]
  },
  {
   "cell_type": "code",
   "execution_count": 25,
   "metadata": {
    "scrolled": false
   },
   "outputs": [
    {
     "name": "stdout",
     "output_type": "stream",
     "text": [
      "not able to write 植松伸夫 band into set\n",
      "not able to write Frédéric Chopin band into set\n",
      "\b\n",
      "-------------------------------------------------------- joi -------------------------------------------------------- \n",
      "\n",
      "---------------------------------------------------- TOP MATCHES ----------------------------------------------------\n",
      "----------------------------------------------- Euclidean similarity ------------------------------------------------ \n",
      "[('BrunoJoS', 0.9683325955428261), ('cortapsyco', 0.9679211469253941), ('Wags1382', 0.9675154200971697), ('DPREBOYE', 0.9675154200971697), ('MPistol40', 0.9675154200971697), ('Larvi', 0.9675154200971697), ('Znapsen', 0.9675154200971697), ('NemoNightfall', 0.9675154200971697), ('emill_67', 0.9675154200971697), ('SkyRif', 0.9675154200971697), ('sattuviitana', 0.9675154200971697)]\n",
      "----------------------------------------------- Russel Rao Similarity ----------------------------------------------- \n",
      "[('BrunoJoS', 0.005376344086021506), ('cortapsyco', 0.0), ('Wags1382', 0.0), ('DPREBOYE', 0.0), ('MPistol40', 0.0), ('Larvi', 0.0), ('Znapsen', 0.0), ('NemoNightfall', 0.0), ('emill_67', 0.0), ('SkyRif', 0.0), ('sattuviitana', 0.0)] \n",
      "\n",
      "-------------------------------------------------- RECOMMENDATIONS --------------------------------------------------\n",
      "----------------------------------------------- Euclidean similarity ------------------------------------------------ \n",
      "[('Slipknot', 0.9091013538538325), ('System of a Down', 0.5455067692691628), ('Korn', 0.4544932307308372), ('Rage Against the Machine', 0.36359458458466976), ('Five Finger Death Punch', 0.36359458458466976), ('Rammstein', 0.27277271255510155), ('Papa Roach', 0.27277271255510155), ('Linkin Park', 0.27277271255510155), ('Metallica', 0.2726959384385023), ('Red Hot Chili Peppers', 0.2726959384385023), ('Stone Sour', 0.2726959384385023), ('Three Days Grace', 0.18187406640893408), ('Arctic Monkeys', 0.18187406640893408), ('Muse', 0.18187406640893408), ('30 Seconds to Mars', 0.18187406640893408), ('Foo Fighters', 0.18187406640893408), ('Pendulum', 0.1818354105678938), ('Coheed and Cambria', 0.1818354105678938), ('Sabaton', 0.18179729229233488), ('Limp Bizkit', 0.18179729229233488), ('Lamb of God', 0.18179729229233488), ('Mogwai', 0.18179729229233488), ('Pink Floyd', 0.18179729229233488), ('Avenged Sevenfold', 0.18179729229233488), ('Pantera', 0.18179729229233488), ('In Flames', 0.18179729229233488), ('Queens of the Stone Age', 0.09097542026276664), ('Green Day', 0.09097542026276664), ('Pitty', 0.09097542026276664), ('Radiohead', 0.09097542026276664), ('M.I.A.', 0.09097542026276664), ('Sum 41', 0.09097542026276664), ('The Killers', 0.09097542026276664), ('Madonna', 0.09097542026276664), ('Thom Yorke', 0.09097542026276664), ('Flo Rida', 0.09093676442172637), ('Killswitch Engage', 0.09093676442172637), ('Halestorm', 0.09093676442172637), ('Krewella', 0.09093676442172637), ('Katy Perry', 0.09093676442172637), ('Lacuna Coil', 0.09093676442172637), ('Ke$ha', 0.09093676442172637), ('Panic! at the Disco', 0.09093676442172637), ('Demon Hunter', 0.09093676442172637), ('Dimmu Borgir', 0.09093676442172637), ('Black Veil Brides', 0.09093676442172637), ('Marina & the Diamonds', 0.09093676442172637), ('Calvin Harris', 0.09093676442172637), ('Cradle of Filth', 0.09093676442172637), ('Becoming the Archetype', 0.09093676442172637), ('Team Sleep', 0.09089864614616744), ('Kollegah', 0.09089864614616744), ('White Zombie', 0.09089864614616744), ('Motion City Soundtrack', 0.09089864614616744), ('Damien Rice', 0.09089864614616744), ('Seether', 0.09089864614616744), ('The Wonder Years', 0.09089864614616744), ('Freestyle', 0.09089864614616744), ('Venetian Snares', 0.09089864614616744), ('Nirvana', 0.09089864614616744), ('Trivium', 0.09089864614616744), ('Electric Light Orchestra', 0.09089864614616744), ('Leevi and the Leavings', 0.09089864614616744), ('Breaking Benjamin', 0.09089864614616744), ('Chromeo', 0.09089864614616744), ('Fall Out Boy', 0.09089864614616744), ('Bullet for My Valentine', 0.09089864614616744), ('Klamydia', 0.09089864614616744), ('Deineltan', 0.09089864614616744), ('Iron Maiden', 0.09089864614616744), ('blink-182', 0.09089864614616744), ('Black Label Society', 0.09089864614616744), ('Lindemann', 0.09089864614616744), ('Stars of the Lid', 0.09089864614616744), ('Gyllene Tider', 0.09089864614616744), ('Pentakill', 0.09089864614616744), ('Bayside', 0.09089864614616744), ('Nightwish', 0.09089864614616744), ('The White Stripes', 0.09089864614616744), ('Soilwork', 0.09089864614616744), ('Magnus Uggla', 0.09089864614616744), ('Shinedown', 0.09089864614616744), ('Isis', 0.09089864614616744), ('A Perfect Circle', 0.09089864614616744), ('deadmau5', 0.09089864614616744), ('Ben Howard', 0.09089864614616744), ('My Chemical Romance', 0.09089864614616744), ('Soulfly', 0.09089864614616744), ('36 Crazyfists', 0.09089864614616744), ('Alexisonfire', 0.09089864614616744), ('Marcel Dettmann', 0.09089864614616744), ('Amorphis', 0.09089864614616744), ('Johnny Cash', 0.09089864614616744), ('AFI', 0.09089864614616744), ('Bohren & der Club of Gore', 0.09089864614616744), ('Jonas Kopp', 0.09089864614616744), ('P.D.P.', 0.09089864614616744), ('Dmitri Shostakovich', 0.09089864614616744), ('Stam1na', 0.09089864614616744), ('Disturbed', 0.09089864614616744), ('AFX', 0.09089864614616744), ('New Found Glory', 0.09089864614616744), ('Marcel Fengler', 0.09089864614616744), ('Sick Puppies', 0.09089864614616744), ('Machine Head', 0.09089864614616744), ('Tenacious D', 0.09089864614616744), ('Boston', 0.09089864614616744), ('Energy', 0.09089864614616744), ('Queen', 0.09089864614616744), ('The Band', 0.09089864614616744), ('Powerwolf', 0.09089864614616744), ('James Blake', 0.09089864614616744), ('Psyk', 0.09089864614616744), ('Epic Rap Battles Of History', 0.09089864614616744), ('Rob Zombie', 0.09089864614616744), ('Neurosis', 0.09089864614616744), ('Cruel Hand', 0.09089864614616744), ('The Dear Hunter', 0.09089864614616744), ('All Time Low', 0.09089864614616744), ('Hozier', 0.09089864614616744), ('Die Antwoord', 0.09089864614616744), ('Ween', 0.09089864614616744), ('Four Year Strong', 0.09089864614616744), ('Arch Enemy', 0.09089864614616744), ('Mustasch', 0.09089864614616744), ('Wintersun', 0.09089864614616744), ('BoBmo', 0.09089864614616744), ('Children of Bodom', 0.09089864614616744), ('Wu-Tang Clan', 0.09089864614616744), ('Parkway Drive', 0.09089864614616744), ('Daughter', 0.09089864614616744), ('Gallows', 0.09089864614616744), ('Scar Symmetry', 0.09089864614616744), (\"Cam'ron\", 0.09089864614616744), ('Theory of a Deadman', 0.09089864614616744), ('Saosin', 0.09089864614616744), ('Sonata Arctica', 0.09089864614616744), ('Warpaint', 0.09089864614616744), ('Bring Me the Horizon', 0.09089864614616744), ('Hans Zimmer', 0.09089864614616744), ('Dark Tranquillity', 0.09089864614616744), ('Evanescence', 0.09089864614616744), ('Atoms for Peace', 0.09089864614616744), ('Amon Amarth', 0.09089864614616744), ('Aphex Twin', 0.09089864614616744), ('Surkin', 0.09089864614616744), ('Dr. Dre', 0.09089864614616744), ('Dope', 0.09089864614616744), ('Nine Inch Nails', 0.09089864614616744), ('Phase', 0.09089864614616744), ('N.W.A', 0.09089864614616744), ('Memphis May Fire', 0.09089864614616744), ('Beach House', 0.09089864614616744), ('Deftones', 0.09089864614616744), ('Evergreen Terrace', 0.09089864614616744), ('Oh, Sleeper', 0.09089864614616744), ('Misfits', 0.09089864614616744), ('DIR EN GREY', 0.09089864614616744), ('Godsmack', 0.09089864614616744), ('Billy Talent', 0.09089864614616744), ('Cat Power', 0.09089864614616744), ('Howard Shore', 0.09089864614616744), ('DragonForce', 0.09089864614616744), ('Circa Survive', 0.09089864614616744), ('Mumford & Sons', 0.09089864614616744), ('Volbeat', 0.09089864614616744), ('Tool', 0.09089864614616744)]\n",
      "----------------------------------------------- Russel_Rao similarity ----------------------------------------------- \n",
      "[('Queens of the Stone Age', 1.0), ('Green Day', 1.0), ('Three Days Grace', 1.0), ('Rammstein', 1.0), ('Pitty', 1.0), ('Arctic Monkeys', 1.0), ('Radiohead', 1.0), ('Muse', 1.0), ('M.I.A.', 1.0), ('Sum 41', 1.0), ('Papa Roach', 1.0), ('30 Seconds to Mars', 1.0), ('The Killers', 1.0), ('Foo Fighters', 1.0), ('Slipknot', 1.0), ('Madonna', 1.0), ('Thom Yorke', 1.0), ('System of a Down', 1.0), ('Linkin Park', 1.0), ('Team Sleep', 0.0), ('Kollegah', 0.0), ('Flo Rida', 0.0), ('White Zombie', 0.0), ('Sabaton', 0.0), ('Killswitch Engage', 0.0), ('Motion City Soundtrack', 0.0), ('Damien Rice', 0.0), ('Seether', 0.0), ('The Wonder Years', 0.0), ('Halestorm', 0.0), ('Freestyle', 0.0), ('Venetian Snares', 0.0), ('Nirvana', 0.0), ('Trivium', 0.0), ('Electric Light Orchestra', 0.0), ('Leevi and the Leavings', 0.0), ('Breaking Benjamin', 0.0), ('Chromeo', 0.0), ('Fall Out Boy', 0.0), ('Bullet for My Valentine', 0.0), ('Klamydia', 0.0), ('Deineltan', 0.0), ('Iron Maiden', 0.0), ('blink-182', 0.0), ('Pendulum', 0.0), ('Black Label Society', 0.0), ('Lindemann', 0.0), ('Stars of the Lid', 0.0), ('Krewella', 0.0), ('Gyllene Tider', 0.0), ('Pentakill', 0.0), ('Bayside', 0.0), ('Nightwish', 0.0), ('Katy Perry', 0.0), ('The White Stripes', 0.0), ('Soilwork', 0.0), ('Magnus Uggla', 0.0), ('Shinedown', 0.0), ('Rage Against the Machine', 0.0), ('Isis', 0.0), ('A Perfect Circle', 0.0), ('Coheed and Cambria', 0.0), ('deadmau5', 0.0), ('Ben Howard', 0.0), ('My Chemical Romance', 0.0), ('Soulfly', 0.0), ('36 Crazyfists', 0.0), ('Limp Bizkit', 0.0), ('Lamb of God', 0.0), ('Alexisonfire', 0.0), ('Marcel Dettmann', 0.0), ('Metallica', 0.0), ('Amorphis', 0.0), ('Johnny Cash', 0.0), ('AFI', 0.0), ('Bohren & der Club of Gore', 0.0), ('Jonas Kopp', 0.0), ('P.D.P.', 0.0), ('Dmitri Shostakovich', 0.0), ('Stam1na', 0.0), ('Mogwai', 0.0), ('Disturbed', 0.0), ('AFX', 0.0), ('New Found Glory', 0.0), ('Marcel Fengler', 0.0), ('Sick Puppies', 0.0), ('Machine Head', 0.0), ('Lacuna Coil', 0.0), ('Tenacious D', 0.0), ('Boston', 0.0), ('Energy', 0.0), ('Queen', 0.0), ('The Band', 0.0), ('Pink Floyd', 0.0), ('Powerwolf', 0.0), ('James Blake', 0.0), ('Ke$ha', 0.0), ('Psyk', 0.0), ('Epic Rap Battles Of History', 0.0), ('Rob Zombie', 0.0), ('Neurosis', 0.0), ('Cruel Hand', 0.0), ('Avenged Sevenfold', 0.0), ('Panic! at the Disco', 0.0), ('The Dear Hunter', 0.0), ('All Time Low', 0.0), ('Hozier', 0.0), ('Die Antwoord', 0.0), ('Korn', 0.0), ('Ween', 0.0), ('Four Year Strong', 0.0), ('Arch Enemy', 0.0), ('Mustasch', 0.0), ('Wintersun', 0.0), ('Demon Hunter', 0.0), ('BoBmo', 0.0), ('Children of Bodom', 0.0), ('Wu-Tang Clan', 0.0), ('Parkway Drive', 0.0), ('Daughter', 0.0), ('Gallows', 0.0), ('Scar Symmetry', 0.0), ('Red Hot Chili Peppers', 0.0), (\"Cam'ron\", 0.0), ('Theory of a Deadman', 0.0), ('Saosin', 0.0), ('Dimmu Borgir', 0.0), ('Sonata Arctica', 0.0), ('Pantera', 0.0), ('Warpaint', 0.0), ('Black Veil Brides', 0.0), ('Bring Me the Horizon', 0.0), ('Hans Zimmer', 0.0), ('Dark Tranquillity', 0.0), ('Stone Sour', 0.0), ('Evanescence', 0.0), ('Atoms for Peace', 0.0), ('Amon Amarth', 0.0), ('Aphex Twin', 0.0), ('Surkin', 0.0), ('Dr. Dre', 0.0), ('Dope', 0.0), ('Marina & the Diamonds', 0.0), ('Five Finger Death Punch', 0.0), ('Calvin Harris', 0.0), ('Nine Inch Nails', 0.0), ('Phase', 0.0), ('N.W.A', 0.0), ('Cradle of Filth', 0.0), ('Memphis May Fire', 0.0), ('Beach House', 0.0), ('Deftones', 0.0), ('Becoming the Archetype', 0.0), ('Evergreen Terrace', 0.0), ('Oh, Sleeper', 0.0), ('Misfits', 0.0), ('DIR EN GREY', 0.0), ('Godsmack', 0.0), ('Billy Talent', 0.0), ('Cat Power', 0.0), ('In Flames', 0.0), ('Howard Shore', 0.0), ('DragonForce', 0.0), ('Circa Survive', 0.0), ('Mumford & Sons', 0.0), ('Volbeat', 0.0), ('Tool', 0.0)]\n",
      "---------------------------------------------------------------------------------------------------------------------\n"
     ]
    }
   ],
   "source": [
    "usernames2 = ['BrunoJoS','DPREBOYE','MPistol40','NemoNightfall','SkyRif','Wags1382','Znapsen',\n",
    "              'cortapsyco','emill_67','sattuviitana', 'joi','Larvi']\n",
    "group2 = []\n",
    "    \n",
    "for u in usernames2:\n",
    "    u1 = nw.get_user(u)\n",
    "    group2.append(u1)\n",
    "        \n",
    "userDict2 = createLastfmUserDict(group2, maxArtist)\n",
    "\n",
    "user2 = 'joi'\n",
    "\n",
    "d = (118 - user.__len__())/2\n",
    "\n",
    "print '\\b'\n",
    "print '-'*d,user2,'-'*d,'\\n'\n",
    "print '-'*52,'TOP MATCHES','-'*52\n",
    "print '-'*47,'Euclidean similarity','-'*48,'\\n', topMatches(userDict2, user2,'_simeuclid')\n",
    "print '-'*47,'Russel Rao Similarity','-'*47,'\\n', topMatches(userDict2, user2,'_simrussel'),'\\n'\n",
    "print '-'*50,'RECOMMENDATIONS','-'*50\n",
    "print '-'*47,'Euclidean similarity','-'*48,'\\n', getRecommendations(userDict2, user2, '_simeuclid'), '\\b'\n",
    "print '-'*47,'Russel_Rao similarity','-'*47,'\\n', getRecommendations(userDict2, user2, '_simrussel')\n",
    "print '-'*117"
   ]
  },
  {
   "cell_type": "markdown",
   "metadata": {},
   "source": [
    "Bei einem weiteren Test wollten wir herausfinden, wie sich die Empfehlungen verändern, wenn man mehr Artists zu jedem User auslesen lässt. Dafür haben wir den Wert maxArtists auf 50 gesetzt. Das ist wohlmöglich der maximale Wert, der über die API von lastfm einstellbar ist. Bei größteren Werten über 50+ bekommen wir \"Index out of Range\" Errors die nur so erklärbar sind. Durch erweitertes debuggen des Codes, konnten wir Fehler in der Programmierung ausschließen.\n",
    "\n",
    "Es ist interessant zu sehen, dass dem User 'SkyRif' bei der Verwendung der Top 50 Artists der User 'sattuviitana' am ähnlichsten ist, während bei 20 Artists der ähnlichste User 'MPistol40' war. Das lässt sich so erklären, dass bei der Betrachtung der Top 50 Artists die User 'SkyRif' und 'sattuviitana' die meisten gemeinsammen Favoriten hatten, während bei einer Betrachtung der Top 20 'MPistol40' eine größere Schnittmenge mit 'SkyRif' hatte. Daraus kann man schließen, dass 'SkyRif' und 'MPistol40' im Groben den ähnlichsten Musikgeschmack haben, sobald man aber ins Detail geht, eher der Musikgeschmack 'sattuviitana's' ähnlich ist.<br>\n",
    "Außerdem fällt auf, dass der höchste Empfehlungswert zwar gleich bleibt (ca. 0.45), jedoch eine andere Band (*Rammstein*) empfohlen wird, als mit 20 Artists (*Five Finger Death Punch*). Das ist darauf zurückzuführen, dass mehr User *Five Finger Death Punch* unter ihren Top 20 haben, unter den Top 50 der User jedoch *Rammstein* häufiger vertreten ist."
   ]
  },
  {
   "cell_type": "code",
   "execution_count": 26,
   "metadata": {
    "scrolled": false
   },
   "outputs": [
    {
     "name": "stdout",
     "output_type": "stream",
     "text": [
      "not able to write Мусоргский, Модест Петрович band into set\n",
      "not able to write Glenmark Eriksson Strömstedt band into set\n",
      "not able to write Kapten Röd band into set\n",
      "not able to write Niklas Strömstedt band into set\n",
      "not able to write 植松伸夫 band into set\n",
      "not able to write Beyoncé band into set\n",
      "not able to write Mötley Crüe band into set\n",
      "not able to write Motörhead band into set\n",
      "------------------------------------------------------ SkyRif ------------------------------------------------------ \n",
      "\n",
      "---------------------------------------------------- TOP MATCHES ----------------------------------------------------\n",
      "----------------------------------------------- Euclidean similarity ------------------------------------------------ \n",
      "[('sattuviitana', 0.9768146849684994), ('BrunoJoS', 0.9763413909393326), ('Znapsen', 0.9752747252747253), ('MPistol40', 0.9752747252747253), ('emill_67', 0.974978927438057), ('NemoNightfall', 0.9745421627462424), ('DPREBOYE', 0.973972083153378), ('cortapsyco', 0.973692039564276), ('Wags1382', 0.973415182133346)] \n",
      "\n",
      "-------------------------------------------------- RECOMMENDATIONS --------------------------------------------------\n",
      "----------------------------------------------- Euclidean similarity ------------------------------------------------ \n",
      "[('Rammstein', 0.4448682053653096), ('Marilyn Manson', 0.4447847158522885), ('Five Finger Death Punch', 0.4446631488959787), ('Disturbed', 0.44456626109772174), ('Rise Against', 0.44448764103159), ('Incubus', 0.4441290450305715), ('Daft Punk', 0.33360224560796725), ('Pendulum', 0.33344876232783555), ('Children of Bodom', 0.33344876232783555), ('Trivium', 0.33336527281481454), ('Bullet for My Valentine', 0.33336527281481454), ('Paramore', 0.3333337196146632), ('Three Days Grace', 0.3333113319067357), ('Evanescence', 0.3331560531287371), ('Pantera', 0.22247792904753858), ('In Flames', 0.22247792904753858), ('Radiohead', 0.22242398813945977), ('Skrillex', 0.22242398813945977), ('Audioslave', 0.22242398813945977), ('Bring Me the Horizon', 0.22239443953451757), ('Queens of the Stone Age', 0.22239027631777097), ('Green Day', 0.22239027631777097), ('Foo Fighters', 0.22239027631777097), ('Machine Head', 0.2223024211831499), ('Nine Inch Nails', 0.2223024211831499), ('Bon Jovi', 0.22229755173626062), ('Arctic Monkeys', 0.22227552715200358), ('Atoms for Peace', 0.22227552715200358), ('Pop Evil', 0.22226870936146112), ('David Guetta', 0.22224361082818178), ('Lady Gaga', 0.22224361082818178), ('Katy Perry', 0.22224361082818178), ('Coldplay', 0.22224361082818178), ('Billy Talent', 0.22221893167012888), ('Godsmack', 0.22221893167012888), ('My Chemical Romance', 0.22221205762803042), ('Seether', 0.22218521984844009), ('deadmau5', 0.22208833205018313), ('Breaking Benjamin', 0.2220385543588509), ('Flyleaf', 0.2220385543588509), ('Panic! at the Disco', 0.2220385543588509), ('Black Veil Brides', 0.2220385543588509), ('A Day to Remember', 0.22200700115869956), ('Alexisonfire', 0.22200700115869956), ('All Time Low', 0.22200700115869956), ('Killswitch Engage', 0.22191011336044258), ('Coheed and Cambria', 0.22191011336044258), ('W.A.S.P.', 0.11132671845596363), ('Gary Moore', 0.11132671845596363), ('Leevi and the Leavings', 0.11132671845596363), ('Klamydia', 0.11132671845596363), ('Lindemann', 0.11132671845596363), ('Nightwish', 0.11132671845596363), ('Amorphis', 0.11132671845596363), ('Deathstars', 0.11132671845596363), ('Stam1na', 0.11132671845596363), ('Scorpions', 0.11132671845596363), ('Sonata Arctica', 0.11132671845596363), ('Static-X', 0.11132671845596363), ('http:', 0.11132671845596363), ('Alice Cooper', 0.11132671845596363), ('Amaranthe', 0.11132671845596363), ('Kiss', 0.11132671845596363), ('Ghost', 0.11132671845596363), ('Raptori', 0.11132671845596363), ('Francine', 0.11132671845596363), ('Volbeat', 0.11132671845596363), ('Ozzy Osbourne', 0.11132671845596363), ('Foster the People', 0.1112727775478848), ('Avril Lavigne', 0.1112727775478848), ('Pitty', 0.1112727775478848), ('Lana Del Rey', 0.1112727775478848), ('The Killers', 0.1112727775478848), ('Royal Blood', 0.1112727775478848), (\"Guns N' Roses\", 0.1112727775478848), ('Eagles of Death Metal', 0.1112727775478848), ('Gwen Stefani', 0.1112727775478848), ('Sum 41', 0.1112727775478848), ('Oomph!', 0.1112727775478848), ('M.I.A.', 0.1112727775478848), ('Madonna', 0.1112727775478848), ('The Ting Tings', 0.1112727775478848), ('Britney Spears', 0.1112727775478848), ('Thom Yorke', 0.1112727775478848), ('David Wise', 0.1112727775478848), ('Them Crooked Vultures', 0.1112727775478848), ('Kylie Minogue', 0.1112727775478848), ('Greg Edmonson', 0.1112727775478848), ('Team Sleep', 0.11115121059157496), ('Tool', 0.11115121059157496), ('White Zombie', 0.11115121059157496), ('Nazareth', 0.11115121059157496), ('Noisia', 0.11115121059157496), ('Soulfly', 0.11115121059157496), ('Melody Gardot', 0.11115121059157496), ('Professor Kliq', 0.11115121059157496), ('Machinimasound', 0.11115121059157496), ('Stiftelsen', 0.11115121059157496), ('Jessica Andersson', 0.11115121059157496), ('Ola Magnell', 0.11115121059157496), ('Biohazard', 0.11115121059157496), ('The Beatles', 0.11115121059157496), ('Honey Claws', 0.11115121059157496), ('Black Label Society', 0.11115121059157496), ('Guano Apes', 0.11115121059157496), ('Imagine Dragons', 0.11115121059157496), ('Gyllene Tider', 0.11115121059157496), ('Divine Heresy', 0.11115121059157496), ('Top Cats', 0.11115121059157496), ('Soilwork', 0.11115121059157496), ('Magnus Uggla', 0.11115121059157496), ('Carola', 0.11115121059157496), ('36 Crazyfists', 0.11115121059157496), ('P.D.P.', 0.11115121059157496), ('Dmitri Shostakovich', 0.11115121059157496), ('Jahzzar', 0.11115121059157496), ('E-Type', 0.11115121059157496), ('Sepultura', 0.11115121059157496), ('Caramell', 0.11115121059157496), ('Anders Glenmark', 0.11115121059157496), ('Freestyle', 0.11115121059157496), ('Sonic Syndicate', 0.11115121059157496), ('Deftones', 0.11115121059157496), ('Sarek', 0.11115121059157496), ('Per Gessle', 0.11115121059157496), ('Igor Stravinsky', 0.11115121059157496), ('The Chemical Brothers', 0.11115121059157496), ('Fear Factory', 0.11115121059157496), ('Tomas Ledin', 0.11115121059157496), ('Aphex Twin', 0.11115121059157496), ('Scar Symmetry', 0.11115121059157496), ('Markoolio', 0.11115121059157496), ('A Perfect Circle', 0.11115121059157496), ('Dark Tranquillity', 0.11115121059157496), ('Major Lazer', 0.11115121059157496), ('Antonio Vivaldi', 0.11115121059157496), ('pronobozo', 0.11115121059157496), ('Dope', 0.11115121059157496), ('Markus Landgren', 0.11115121059157496), ('Pelle Almgren', 0.11115121059157496), ('Opeth', 0.11115121059157496), ('Mudvayne', 0.11115121059157496), ('Black Light Burns', 0.11115121059157496), ('London Philharmonic Orchestra', 0.11115121059157496), ('Styles of Beyond', 0.11115121059157496), ('Mustasch', 0.11115121059157496), ('Celldweller feat. Styles of Beyond', 0.11115121059157496), ('Borgore', 0.11111749876988616), ('The Glitch Mob', 0.11111749876988616), ('Epic Rap Battles Of History', 0.11111749876988616), ('Hinder', 0.11111749876988616), ('Cro', 0.11111749876988616), ('Electric Light Orchestra', 0.11111749876988616), ('X', 0.11111749876988616), ('ZZ Top', 0.11111749876988616), ('Shinedown', 0.11111749876988616), ('Charlie Daniels Band', 0.11111749876988616), ('Nickelback', 0.11111749876988616), ('Boston', 0.11111749876988616), ('Billy Joel', 0.11111749876988616), ('Rob Zombie', 0.11111749876988616), ('Ween', 0.11111749876988616), ('The Rolling Stones', 0.11111749876988616), ('The Mooney Suzuki', 0.11111749876988616), ('Rancid', 0.11111749876988616), ('Supertramp', 0.11111749876988616), ('Theory of a Deadman', 0.11111749876988616), ('U2', 0.11111749876988616), ('Gorillaz', 0.11111749876988616), ('R.E.M.', 0.11111749876988616), ('Motograter', 0.11111749876988616), ('Faith No More', 0.11111749876988616), ('Creedence Clearwater Revival', 0.11111749876988616), ('Styx', 0.11111749876988616), ('\"Weird Al\" Yankovic', 0.11111749876988616), ('Dire Straits', 0.11111749876988616), ('Seeed', 0.11106772107855394), ('Art of Dying', 0.11106772107855394), ('Anti-Flag', 0.11106772107855394), ('Oh, Sleeper', 0.11106772107855394), ('Red', 0.11106772107855394), ('Hurt', 0.11106772107855394), ('Egypt Central', 0.11106772107855394), ('Icon for Hire', 0.11106772107855394), ('Lostprophets', 0.11106772107855394), ('Framing Hanley', 0.11106772107855394), ('Buena Vista Social Club', 0.11106772107855394), ('Eyes Set to Kill', 0.11106772107855394), ('Ben Howard', 0.11106772107855394), ('City and Colour', 0.11106772107855394), ('Mayday Parade', 0.11106772107855394), ('Hoobastank', 0.11106772107855394), ('3 Doors Down', 0.11106772107855394), ('Apocalyptica', 0.11106772107855394), ('Memphis May Fire', 0.11106772107855394), ('Haste the Day', 0.11106772107855394), ('Sick Puppies', 0.11106772107855394), ('Scary Kids Scaring Kids', 0.11106772107855394), ('Mumford & Sons', 0.11106772107855394), ('FKA twigs', 0.1110027496041188), ('Wreckless Media Radio', 0.1110027496041188), ('Soundtrack', 0.1110027496041188), (\"Let's play\", 0.1110027496041188), ('Fela Kuti', 0.1110027496041188), ('Jack White', 0.1110027496041188), ('Sublime', 0.1110027496041188), ('Damien Rice', 0.1110027496041188), ('Cat Power', 0.1110027496041188), ('The Game', 0.1110027496041188), ('The White Stripes', 0.1110027496041188), ('The National', 0.1110027496041188), ('Franz Schubert', 0.1110027496041188), ('Modest Mouse', 0.1110027496041188), ('The Hics', 0.1110027496041188), ('dj d. love', 0.1110027496041188), ('Soul Khan', 0.1110027496041188), ('Bon Iver', 0.1110027496041188), ('Low Roar', 0.1110027496041188), ('XXYYXX', 0.1110027496041188), ('Mogwai', 0.1110027496041188), ('The Band', 0.1110027496041188), ('Beach House', 0.1110027496041188), ('Lost in Translation', 0.1110027496041188), ('Hozier', 0.1110027496041188), ('Die Antwoord', 0.1110027496041188), ('DIR EN GREY', 0.1110027496041188), ('alt-J', 0.1110027496041188), ('Cypress Hill', 0.1110027496041188), ('Daughter', 0.1110027496041188), ('Johann Sebastian Bach', 0.1110027496041188), ('Hotline Miami 2', 0.1110027496041188), ('Warpaint', 0.1110027496041188), ('Arcade Fire', 0.1110027496041188), (\"World's End Girlfriend\", 0.1110027496041188), ('The Front Bottoms', 0.1110027496041188), ('Dr. Dre', 0.1110027496041188), ('Jon Connor', 0.1110027496041188), ('N.W.A', 0.1110027496041188), ('James Blake', 0.1110027496041188), ('Black Sabbath', 0.1110027496041188), ('Wu-Tang Clan', 0.1110027496041188), ('Flo Rida', 0.11097083328029697), ('Ra', 0.11097083328029697), ('Dimmu Borgir', 0.11097083328029697), ('Halestorm', 0.11097083328029697), ('Rihanna', 0.11097083328029697), ('Krewella', 0.11097083328029697), ('10 Years', 0.11097083328029697), ('Alex Clare', 0.11097083328029697), ('Demon Hunter', 0.11097083328029697), ('Head', 0.11097083328029697), ('Family Force 5', 0.11097083328029697), ('Banks', 0.11097083328029697), ('Ellie Goulding', 0.11097083328029697), ('Lacuna Coil', 0.11097083328029697), ('Ke$ha', 0.11097083328029697), ('Anberlin', 0.11097083328029697), ('Dethklok', 0.11097083328029697), ('In This Moment', 0.11097083328029697), ('Sia', 0.11097083328029697), ('The Becoming', 0.11097083328029697), ('Marina & the Diamonds', 0.11097083328029697), ('Demi Lovato', 0.11097083328029697), ('Cradle of Filth', 0.11097083328029697), ('Becoming the Archetype', 0.11097083328029697), ('Calvin Harris', 0.11097083328029697), ('Brand New', 0.11093928008014563), ('Transit', 0.11093928008014563), ('Motion City Soundtrack', 0.11093928008014563), ('The Wonder Years', 0.11093928008014563), ('Counterparts', 0.11093928008014563), ('Anthony Green', 0.11093928008014563), ('Fall Out Boy', 0.11093928008014563), ('Silversun Pickups', 0.11093928008014563), ('Bayside', 0.11093928008014563), ('Have Heart', 0.11093928008014563), ('Lions Lions', 0.11093928008014563), ('A Loss for Words', 0.11093928008014563), ('blink-182', 0.11093928008014563), ('Senses Fail', 0.11093928008014563), ('AFI', 0.11093928008014563), ('New Found Glory', 0.11093928008014563), ('Set Your Goals', 0.11093928008014563), ('Misfits', 0.11093928008014563), ('Energy', 0.11093928008014563), ('Underoath', 0.11093928008014563), ('Last Chance To Reason', 0.11093928008014563), ('The Dear Hunter', 0.11093928008014563), ('The Prize Fighter Inferno', 0.11093928008014563), ('Fair to Midland', 0.11093928008014563), ('Four Year Strong', 0.11093928008014563), ('Fireworks', 0.11093928008014563), ('Attack Attack!', 0.11093928008014563), ('Parkway Drive', 0.11093928008014563), ('Gallows', 0.11093928008014563), ('Saosin', 0.11093928008014563), ('Comeback Kid', 0.11093928008014563), ('Circa Survive', 0.11093928008014563), ('The Devil Wears Prada', 0.11093928008014563), ('Bane', 0.11093928008014563), ('Cruel Hand', 0.11093928008014563), ('Vanna', 0.11093928008014563), ('Man Overboard', 0.11093928008014563), ('The Story So Far', 0.11093928008014563), ('Evergreen Terrace', 0.11093928008014563)]\n",
      "----------------------------------------------- Russel_Rao similarity ----------------------------------------------- \n",
      "[('Rammstein', 0.6142857142857142), ('Marilyn Manson', 0.6), ('Five Finger Death Punch', 0.5285714285714286), ('Disturbed', 0.4714285714285714), ('Daft Punk', 0.45714285714285713), ('Rise Against', 0.45714285714285713), ('Pendulum', 0.3714285714285714), ('Children of Bodom', 0.3714285714285714), ('Trivium', 0.34285714285714286), ('Bullet for My Valentine', 0.34285714285714286), ('Paramore', 0.34285714285714286), ('Three Days Grace', 0.3285714285714285), ('In Flames', 0.3285714285714285), ('Incubus', 0.3142857142857143), ('Radiohead', 0.3142857142857143), ('Pantera', 0.3142857142857143), ('Skrillex', 0.3142857142857143), ('Audioslave', 0.3142857142857143), ('Queens of the Stone Age', 0.3), ('Green Day', 0.3), ('Foo Fighters', 0.3), ('Bring Me the Horizon', 0.3), ('Arctic Monkeys', 0.2571428571428571), ('Evanescence', 0.2571428571428571), ('Atoms for Peace', 0.2571428571428571), ('Machine Head', 0.24285714285714285), ('Nine Inch Nails', 0.24285714285714285), ('Bon Jovi', 0.24285714285714285), ('Billy Talent', 0.22857142857142856), ('Pop Evil', 0.22857142857142856), ('David Guetta', 0.22857142857142854), ('My Chemical Romance', 0.22857142857142854), ('Lady Gaga', 0.22857142857142854), ('Katy Perry', 0.22857142857142854), ('Coldplay', 0.22857142857142854), ('Seether', 0.21428571428571427), ('Godsmack', 0.21428571428571427), ('W.A.S.P.', 0.2), ('Gary Moore', 0.2), ('Leevi and the Leavings', 0.2), ('Klamydia', 0.2), ('Lindemann', 0.2), ('Nightwish', 0.2), ('Amorphis', 0.2), ('Deathstars', 0.2), ('Stam1na', 0.2), ('Scorpions', 0.2), ('Sonata Arctica', 0.2), ('Static-X', 0.2), ('http:', 0.2), ('Alice Cooper', 0.2), ('Amaranthe', 0.2), ('Kiss', 0.2), ('Ghost', 0.2), ('Raptori', 0.2), ('Francine', 0.2), ('Volbeat', 0.2), ('Ozzy Osbourne', 0.2), ('Foster the People', 0.1857142857142857), ('Avril Lavigne', 0.1857142857142857), ('Pitty', 0.1857142857142857), ('Lana Del Rey', 0.1857142857142857), ('The Killers', 0.1857142857142857), ('Royal Blood', 0.1857142857142857), (\"Guns N' Roses\", 0.1857142857142857), ('Eagles of Death Metal', 0.1857142857142857), ('Gwen Stefani', 0.1857142857142857), ('Sum 41', 0.1857142857142857), ('Oomph!', 0.1857142857142857), ('M.I.A.', 0.1857142857142857), ('Madonna', 0.1857142857142857), ('The Ting Tings', 0.1857142857142857), ('Britney Spears', 0.1857142857142857), ('Thom Yorke', 0.1857142857142857), ('David Wise', 0.1857142857142857), ('Them Crooked Vultures', 0.1857142857142857), ('Kylie Minogue', 0.1857142857142857), ('Greg Edmonson', 0.1857142857142857), ('deadmau5', 0.15714285714285714), ('Breaking Benjamin', 0.14285714285714285), ('A Day to Remember', 0.14285714285714285), ('Flyleaf', 0.14285714285714285), ('Panic! at the Disco', 0.14285714285714285), ('Alexisonfire', 0.14285714285714285), ('Black Veil Brides', 0.14285714285714285), ('All Time Low', 0.14285714285714285), ('Team Sleep', 0.12857142857142856), ('Tool', 0.12857142857142856), ('Noisia', 0.12857142857142856), ('Soulfly', 0.12857142857142856), ('Professor Kliq', 0.12857142857142856), ('Machinimasound', 0.12857142857142856), ('Biohazard', 0.12857142857142856), ('Guano Apes', 0.12857142857142856), ('Imagine Dragons', 0.12857142857142856), ('Divine Heresy', 0.12857142857142856), ('Soilwork', 0.12857142857142856), ('36 Crazyfists', 0.12857142857142856), ('Dmitri Shostakovich', 0.12857142857142856), ('Jahzzar', 0.12857142857142856), ('Sepultura', 0.12857142857142856), ('Sonic Syndicate', 0.12857142857142856), ('Deftones', 0.12857142857142856), ('Igor Stravinsky', 0.12857142857142856), ('The Chemical Brothers', 0.12857142857142856), ('Aphex Twin', 0.12857142857142856), ('Scar Symmetry', 0.12857142857142856), ('A Perfect Circle', 0.12857142857142856), ('Dark Tranquillity', 0.12857142857142856), ('Major Lazer', 0.12857142857142856), ('Antonio Vivaldi', 0.12857142857142856), ('pronobozo', 0.12857142857142856), ('Opeth', 0.12857142857142856), ('Mudvayne', 0.12857142857142856), ('Black Light Burns', 0.12857142857142856), ('Borgore', 0.11428571428571428), ('The Glitch Mob', 0.11428571428571428), ('White Zombie', 0.11428571428571428), ('Nazareth', 0.11428571428571428), ('Epic Rap Battles Of History', 0.11428571428571428), ('Hinder', 0.11428571428571428), ('Melody Gardot', 0.11428571428571428), ('Stiftelsen', 0.11428571428571428), ('Jessica Andersson', 0.11428571428571428), ('Cro', 0.11428571428571428), ('Electric Light Orchestra', 0.11428571428571428), ('Ola Magnell', 0.11428571428571428), ('The Beatles', 0.11428571428571428), ('Honey Claws', 0.11428571428571428), ('X', 0.11428571428571428), ('ZZ Top', 0.11428571428571428), ('Black Label Society', 0.11428571428571428), ('Gyllene Tider', 0.11428571428571428), ('Top Cats', 0.11428571428571428), ('Magnus Uggla', 0.11428571428571428), ('Shinedown', 0.11428571428571428), ('Carola', 0.11428571428571428), ('Charlie Daniels Band', 0.11428571428571428), ('P.D.P.', 0.11428571428571428), ('Nickelback', 0.11428571428571428), ('E-Type', 0.11428571428571428), ('Caramell', 0.11428571428571428), ('Anders Glenmark', 0.11428571428571428), ('Boston', 0.11428571428571428), ('Freestyle', 0.11428571428571428), ('Billy Joel', 0.11428571428571428), ('Rob Zombie', 0.11428571428571428), ('Sarek', 0.11428571428571428), ('Per Gessle', 0.11428571428571428), ('Ween', 0.11428571428571428), ('Fear Factory', 0.11428571428571428), ('The Rolling Stones', 0.11428571428571428), ('Tomas Ledin', 0.11428571428571428), ('The Mooney Suzuki', 0.11428571428571428), ('Rancid', 0.11428571428571428), ('Supertramp', 0.11428571428571428), ('Theory of a Deadman', 0.11428571428571428), ('U2', 0.11428571428571428), ('Markoolio', 0.11428571428571428), ('Gorillaz', 0.11428571428571428), ('R.E.M.', 0.11428571428571428), ('Motograter', 0.11428571428571428), ('Dope', 0.11428571428571428), ('Markus Landgren', 0.11428571428571428), ('Faith No More', 0.11428571428571428), ('Pelle Almgren', 0.11428571428571428), ('Creedence Clearwater Revival', 0.11428571428571428), ('London Philharmonic Orchestra', 0.11428571428571428), ('Styles of Beyond', 0.11428571428571428), ('Mustasch', 0.11428571428571428), ('Styx', 0.11428571428571428), ('\"Weird Al\" Yankovic', 0.11428571428571428), ('Celldweller feat. Styles of Beyond', 0.11428571428571428), ('Dire Straits', 0.11428571428571428), ('Seeed', 0.1), ('Art of Dying', 0.1), ('Anti-Flag', 0.1), ('Oh, Sleeper', 0.1), ('Red', 0.1), ('Hurt', 0.1), ('Egypt Central', 0.1), ('Icon for Hire', 0.1), ('Lostprophets', 0.1), ('Framing Hanley', 0.1), ('Buena Vista Social Club', 0.1), ('Eyes Set to Kill', 0.1), ('Ben Howard', 0.1), ('City and Colour', 0.1), ('Mayday Parade', 0.1), ('Hoobastank', 0.1), ('3 Doors Down', 0.1), ('Apocalyptica', 0.1), ('Memphis May Fire', 0.1), ('Haste the Day', 0.1), ('Sick Puppies', 0.1), ('Scary Kids Scaring Kids', 0.1), ('Mumford & Sons', 0.1), ('Killswitch Engage', 0.0857142857142857), ('Coheed and Cambria', 0.0857142857142857), ('FKA twigs', 0.07142857142857142), ('Wreckless Media Radio', 0.07142857142857142), ('Soundtrack', 0.07142857142857142), (\"Let's play\", 0.07142857142857142), ('Fela Kuti', 0.07142857142857142), ('Jack White', 0.07142857142857142), ('Sublime', 0.07142857142857142), ('Damien Rice', 0.07142857142857142), ('Cat Power', 0.07142857142857142), ('The Game', 0.07142857142857142), ('The White Stripes', 0.07142857142857142), ('The National', 0.07142857142857142), ('Franz Schubert', 0.07142857142857142), ('Modest Mouse', 0.07142857142857142), ('The Hics', 0.07142857142857142), ('dj d. love', 0.07142857142857142), ('Soul Khan', 0.07142857142857142), ('Bon Iver', 0.07142857142857142), ('Low Roar', 0.07142857142857142), ('XXYYXX', 0.07142857142857142), ('Mogwai', 0.07142857142857142), ('The Band', 0.07142857142857142), ('Beach House', 0.07142857142857142), ('Lost in Translation', 0.07142857142857142), ('Hozier', 0.07142857142857142), ('Die Antwoord', 0.07142857142857142), ('DIR EN GREY', 0.07142857142857142), ('alt-J', 0.07142857142857142), ('Cypress Hill', 0.07142857142857142), ('Daughter', 0.07142857142857142), ('Johann Sebastian Bach', 0.07142857142857142), ('Hotline Miami 2', 0.07142857142857142), ('Warpaint', 0.07142857142857142), ('Arcade Fire', 0.07142857142857142), (\"World's End Girlfriend\", 0.07142857142857142), ('The Front Bottoms', 0.07142857142857142), ('Dr. Dre', 0.07142857142857142), ('Jon Connor', 0.07142857142857142), ('N.W.A', 0.07142857142857142), ('James Blake', 0.07142857142857142), ('Black Sabbath', 0.07142857142857142), ('Wu-Tang Clan', 0.07142857142857142), ('Brand New', 0.04285714285714285), ('Transit', 0.04285714285714285), ('Flo Rida', 0.04285714285714285), ('Ra', 0.04285714285714285), ('Dimmu Borgir', 0.04285714285714285), ('Motion City Soundtrack', 0.04285714285714285), ('The Wonder Years', 0.04285714285714285), ('Halestorm', 0.04285714285714285), ('Counterparts', 0.04285714285714285), ('Anthony Green', 0.04285714285714285), ('Fall Out Boy', 0.04285714285714285), ('Rihanna', 0.04285714285714285), ('Silversun Pickups', 0.04285714285714285), ('Krewella', 0.04285714285714285), ('Bayside', 0.04285714285714285), ('10 Years', 0.04285714285714285), ('Alex Clare', 0.04285714285714285), ('Demon Hunter', 0.04285714285714285), ('Have Heart', 0.04285714285714285), ('Head', 0.04285714285714285), ('Lions Lions', 0.04285714285714285), ('Family Force 5', 0.04285714285714285), ('A Loss for Words', 0.04285714285714285), ('blink-182', 0.04285714285714285), ('Senses Fail', 0.04285714285714285), ('Banks', 0.04285714285714285), ('AFI', 0.04285714285714285), ('Ellie Goulding', 0.04285714285714285), ('New Found Glory', 0.04285714285714285), ('Set Your Goals', 0.04285714285714285), ('Lacuna Coil', 0.04285714285714285), ('Misfits', 0.04285714285714285), ('Energy', 0.04285714285714285), ('Ke$ha', 0.04285714285714285), ('Underoath', 0.04285714285714285), ('Last Chance To Reason', 0.04285714285714285), ('Anberlin', 0.04285714285714285), ('The Dear Hunter', 0.04285714285714285), ('The Prize Fighter Inferno', 0.04285714285714285), ('Fair to Midland', 0.04285714285714285), ('Four Year Strong', 0.04285714285714285), ('Fireworks', 0.04285714285714285), ('Dethklok', 0.04285714285714285), ('Attack Attack!', 0.04285714285714285), ('Parkway Drive', 0.04285714285714285), ('Gallows', 0.04285714285714285), ('Saosin', 0.04285714285714285), ('In This Moment', 0.04285714285714285), ('Sia', 0.04285714285714285), ('Comeback Kid', 0.04285714285714285), ('The Becoming', 0.04285714285714285), ('Circa Survive', 0.04285714285714285), ('The Devil Wears Prada', 0.04285714285714285), ('Marina & the Diamonds', 0.04285714285714285), ('Bane', 0.04285714285714285), ('Demi Lovato', 0.04285714285714285), ('Cradle of Filth', 0.04285714285714285), ('Becoming the Archetype', 0.04285714285714285), ('Calvin Harris', 0.04285714285714285), ('Cruel Hand', 0.04285714285714285), ('Vanna', 0.04285714285714285), ('Man Overboard', 0.04285714285714285), ('The Story So Far', 0.04285714285714285), ('Evergreen Terrace', 0.04285714285714285)]\n",
      "---------------------------------------------------------------------------------------------------------------------\n"
     ]
    }
   ],
   "source": [
    "maxArtist2 = 50\n",
    "userDict3 = createLastfmUserDict(group, maxArtist2)\n",
    "\n",
    "d = (117 - user.__len__()-2)/2\n",
    "\n",
    "print '-'*d,user,'-'*d,'\\n'\n",
    "print '-'*52,'TOP MATCHES','-'*52\n",
    "print '-'*47,'Euclidean similarity','-'*48,'\\n', topMatches(userDict3, user,'_simeuclid'),'\\n'\n",
    "print '-'*50,'RECOMMENDATIONS','-'*50\n",
    "print '-'*47,'Euclidean similarity','-'*48,'\\n', getRecommendations(userDict3, user, '_simeuclid'), '\\b'\n",
    "print '-'*47,'Russel_Rao similarity','-'*47,'\\n', getRecommendations(userDict3, user, '_simrussel')\n",
    "print '-'*117"
   ]
  },
  {
   "cell_type": "markdown",
   "metadata": {},
   "source": [
    "Interessant wäre es außerdem auch, wie sich die Empfehlungen verändern, wenn man eine größere Menge User (100+) zur Berechnung der Empfehlungen verwendet. Leider wäre es äußerst aufwendig eine Liste mit 100 oder mehr Usern manuell zu erstellen. Theoretisch müsste für jeden User eine spezifischere Empfehlung getätigt werden können, da mehr Referenzdaten zur Verfügung stehen."
   ]
  }
 ],
 "metadata": {
  "kernelspec": {
   "display_name": "Python 3",
   "language": "python",
   "name": "python3"
  },
  "language_info": {
   "codemirror_mode": {
    "name": "ipython",
    "version": 3
   },
   "file_extension": ".py",
   "mimetype": "text/x-python",
   "name": "python",
   "nbconvert_exporter": "python",
   "pygments_lexer": "ipython3",
   "version": "3.6.4"
  },
  "nav_menu": {},
  "toc": {
   "navigate_menu": true,
   "number_sections": true,
   "sideBar": true,
   "threshold": 6,
   "toc_cell": false,
   "toc_section_display": "block",
   "toc_window_display": true
  },
  "toc_position": {
   "height": "664px",
   "left": "0px",
   "right": "1209.67px",
   "top": "125.333px",
   "width": "212px"
  }
 },
 "nbformat": 4,
 "nbformat_minor": 1
}
